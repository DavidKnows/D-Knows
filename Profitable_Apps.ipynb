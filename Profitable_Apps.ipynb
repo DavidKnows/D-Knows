{
 "cells": [
  {
   "cell_type": "markdown",
   "metadata": {},
   "source": [
    "# The apps most people want"
   ]
  },
  {
   "cell_type": "markdown",
   "metadata": {},
   "source": [
    "The project consist in analyze all game apps that exists in Plays Store and iOS store so we can see which type of app games are the one the people most like.\n",
    "\n",
    "Our goal is to have enough information of the interest of the people in app games so our developers can create games as their interest."
   ]
  },
  {
   "cell_type": "code",
   "execution_count": 1,
   "metadata": {},
   "outputs": [],
   "source": [
    "import csv \n",
    "op=open('AppleStore.csv')\n",
    "op2=open('googleplaystore.csv')\n",
    "read1=csv.reader(op)\n",
    "read2=csv.reader(op2)\n",
    "lista1=list(read1)\n",
    "lista2=list(read2)#Google Play\n",
    "nuevo1=lista1[1:]\n",
    "nuevo2=lista2[1:]"
   ]
  },
  {
   "cell_type": "code",
   "execution_count": 2,
   "metadata": {},
   "outputs": [],
   "source": [
    "def explore_data(dataset, start, end, rows_and_columns=False):\n",
    "    dataset_slice = dataset[start:end]    \n",
    "    for row in dataset_slice:\n",
    "        print(row)\n",
    "        print('\\n') # adds a new (empty) line after each row\n",
    "\n",
    "    if rows_and_columns:\n",
    "        print('Number of rows:', len(dataset))\n",
    "        print('Number of columns:', len(dataset[0]))"
   ]
  },
  {
   "cell_type": "code",
   "execution_count": 26,
   "metadata": {},
   "outputs": [
    {
     "name": "stdout",
     "output_type": "stream",
     "text": [
      "['284882215', 'Facebook', '389879808', 'USD', '0.0', '2974676', '212', '3.5', '3.5', '95.0', '4+', 'Social Networking', '37', '1', '29', '1']\n",
      "\n",
      "\n",
      "Number of rows: 7197\n",
      "Number of columns: 16\n",
      "['Photo Editor & Candy Camera & Grid & ScrapBook', 'ART_AND_DESIGN', '4.1', '159', '19M', '10,000+', 'Free', '0', 'Everyone', 'Art & Design', 'January 7, 2018', '1.0.0', '4.0.3 and up']\n",
      "\n",
      "\n",
      "Number of rows: 10840\n",
      "Number of columns: 13\n"
     ]
    }
   ],
   "source": [
    "explore_data(nuevo1,0,1,True)\n",
    "explore_data(nuevo2,0,1,True)"
   ]
  },
  {
   "cell_type": "markdown",
   "metadata": {},
   "source": [
    "## Number of rows and columns in Apple Store data Base"
   ]
  },
  {
   "cell_type": "code",
   "execution_count": 4,
   "metadata": {},
   "outputs": [
    {
     "name": "stdout",
     "output_type": "stream",
     "text": [
      "7197 16\n"
     ]
    }
   ],
   "source": [
    "number_row=len(nuevo1)\n",
    "number_column=len(nuevo1[0])\n",
    "print(number_row, number_column)"
   ]
  },
  {
   "cell_type": "markdown",
   "metadata": {},
   "source": [
    "## Number of rows and columns in Google Play Store"
   ]
  },
  {
   "cell_type": "code",
   "execution_count": 5,
   "metadata": {},
   "outputs": [
    {
     "name": "stdout",
     "output_type": "stream",
     "text": [
      "10841 13\n"
     ]
    }
   ],
   "source": [
    "number_row2=len(nuevo2)\n",
    "number_column2=len(nuevo2[0])\n",
    "print(number_row2, number_column2)"
   ]
  },
  {
   "cell_type": "markdown",
   "metadata": {},
   "source": [
    "## Column Names in each data set"
   ]
  },
  {
   "cell_type": "code",
   "execution_count": 6,
   "metadata": {},
   "outputs": [
    {
     "name": "stdout",
     "output_type": "stream",
     "text": [
      "['id', 'track_name', 'size_bytes', 'currency', 'price', 'rating_count_tot', 'rating_count_ver', 'user_rating', 'user_rating_ver', 'ver', 'cont_rating', 'prime_genre', 'sup_devices.num', 'ipadSc_urls.num', 'lang.num', 'vpp_lic']\n",
      "\n",
      "\n",
      "['App', 'Category', 'Rating', 'Reviews', 'Size', 'Installs', 'Type', 'Price', 'Content Rating', 'Genres', 'Last Updated', 'Current Ver', 'Android Ver']\n"
     ]
    }
   ],
   "source": [
    "HeaderAp=lista1[0]\n",
    "HeaderGp=lista2[0]\n",
    "print(HeaderAp)#Column names of Apple Store\n",
    "print('\\n')\n",
    "print(HeaderGp)#Column names of Google Play"
   ]
  },
  {
   "cell_type": "markdown",
   "metadata": {},
   "source": [
    "The columns that could help us in our goal are:\n",
    "\n",
    "For Apple Store:\n",
    "'prime_genre', \n",
    "'user_rating', \n",
    "'price'\n",
    "\n",
    "For Google Play:\n",
    "'Category', \n",
    "'Rating', \n",
    "'Installs', \n",
    "'Type'\n",
    "\n",
    "If you get problems to figure it out what each column is about, here your have the documentation:\n",
    "\n",
    "Apple Store Data Set:  [Link](https://www.kaggle.com/ramamet4/app-store-apple-data-set-10k-apps)\n",
    "\n",
    "Google Play Data Set: [Link](https://www.kaggle.com/lava18/google-play-store-apps)\n"
   ]
  },
  {
   "cell_type": "code",
   "execution_count": 7,
   "metadata": {},
   "outputs": [
    {
     "name": "stdout",
     "output_type": "stream",
     "text": [
      "['Life Made WI-Fi Touchscreen Photo Frame', '1.9', '19', '3.0M', '1,000+', 'Free', '0', 'Everyone', '', 'February 11, 2018', '1.0.19', '4.0 and up']\n",
      "12\n",
      "13\n"
     ]
    }
   ],
   "source": [
    "print(nuevo2[10472])\n",
    "print(len(nuevo2[10472]))\n",
    "print(len(HeaderGp))"
   ]
  },
  {
   "cell_type": "code",
   "execution_count": 8,
   "metadata": {},
   "outputs": [
    {
     "name": "stdout",
     "output_type": "stream",
     "text": [
      "['Life Made WI-Fi Touchscreen Photo Frame', '1.9', '19', '3.0M', '1,000+', 'Free', '0', 'Everyone', '', 'February 11, 2018', '1.0.19', '4.0 and up']\n"
     ]
    }
   ],
   "source": [
    "longi=len(HeaderGp)\n",
    "for each in nuevo2:\n",
    "    lon=len(each)\n",
    "    if lon!=longi:\n",
    "        print(each)\n",
    "        index=nuevo2.index(each)\n",
    "        del nuevo2[index]"
   ]
  },
  {
   "cell_type": "code",
   "execution_count": 9,
   "metadata": {},
   "outputs": [
    {
     "name": "stdout",
     "output_type": "stream",
     "text": [
      "10840\n"
     ]
    }
   ],
   "source": [
    "print(len(nuevo2))"
   ]
  },
  {
   "cell_type": "markdown",
   "metadata": {},
   "source": [
    "## Removing Duplicates\n",
    "\n",
    "Deleting apps with missing values is one step of cleaning data. Another thing we need to consider is if it exists duplicate values. For example, if the name of an app is repeated more than once. \n",
    "\n",
    "In order to have a good analysis, we need to work only with one app specification.\n",
    "\n",
    "As an example, in the next code we will print all the rows that has 'Instagram' as a name app."
   ]
  },
  {
   "cell_type": "code",
   "execution_count": 10,
   "metadata": {},
   "outputs": [
    {
     "name": "stdout",
     "output_type": "stream",
     "text": [
      "['Instagram', 'SOCIAL', '4.5', '66577313', 'Varies with device', '1,000,000,000+', 'Free', '0', 'Teen', 'Social', 'July 31, 2018', 'Varies with device', 'Varies with device']\n",
      "['Instagram', 'SOCIAL', '4.5', '66577446', 'Varies with device', '1,000,000,000+', 'Free', '0', 'Teen', 'Social', 'July 31, 2018', 'Varies with device', 'Varies with device']\n",
      "['Instagram', 'SOCIAL', '4.5', '66577313', 'Varies with device', '1,000,000,000+', 'Free', '0', 'Teen', 'Social', 'July 31, 2018', 'Varies with device', 'Varies with device']\n",
      "['Instagram', 'SOCIAL', '4.5', '66509917', 'Varies with device', '1,000,000,000+', 'Free', '0', 'Teen', 'Social', 'July 31, 2018', 'Varies with device', 'Varies with device']\n"
     ]
    }
   ],
   "source": [
    "for row in nuevo2:\n",
    "    name=row[0]\n",
    "    if name=='Instagram':\n",
    "        print(row)"
   ]
  },
  {
   "cell_type": "markdown",
   "metadata": {},
   "source": [
    "Here we can see that 'Instagram' has 4 entries. We only need to work with one of these, so we can take a value as the cretreria to decide which are the ones to be deleted.\n",
    "\n",
    "If we want to check how many apps are duplicated we run the next code:"
   ]
  },
  {
   "cell_type": "code",
   "execution_count": 11,
   "metadata": {},
   "outputs": [
    {
     "name": "stdout",
     "output_type": "stream",
     "text": [
      "Unique apps: 9659\n",
      "/n\n",
      "Duplicated apps: 1181\n"
     ]
    }
   ],
   "source": [
    "unique_apps=[]\n",
    "duplicated_apps=[]\n",
    "for each in nuevo2:\n",
    "    name=each[0]\n",
    "    if name in unique_apps:\n",
    "        duplicated_apps.append(name)\n",
    "    else:\n",
    "        unique_apps.append(name)\n",
    "print('Unique apps:', len(unique_apps))\n",
    "print('/n')\n",
    "print('Duplicated apps:', len(duplicated_apps))\n"
   ]
  },
  {
   "cell_type": "markdown",
   "metadata": {},
   "source": [
    "It was mentioned before that we would use a value as criteria in order to choose which row will remain.\n",
    "\n",
    "We can delete ramdomly the rows, but doing that we can loose valuable information due an update of the information, and update of the app. So what we do is to check the information af all the rows of a repetitive name. Let's take Instagram as example:\n",
    "\n",
    "If we analize in detail we can see that all values are the same, like rating or number od downloads, type or even the last Update. The only difference here is the number of reviews. We can take this as the criteria choosing the one with higher value."
   ]
  },
  {
   "cell_type": "markdown",
   "metadata": {},
   "source": [
    "Ok, so we want to separate the duplicated values from the rest:\n",
    "\n",
    "First we will creat an empty dictionarie called `reviews_max`\n",
    "  -  Then we iterate every `row` in `nuevo2` the database:\n",
    "     -  For every row we asign its element in index 0, which              has the app name to a variable called `name`.\n",
    "     -  For every row we asign its element in index 3, which              has the reviews to a variable called `n-reviews`\n",
    "     \n",
    "Then with those tho values we creat a conditional, where we \n",
    "check if the name in the current row is inside the               dictionarie `reviews_max`.\n",
    "  \n",
    "     \n",
    "  -  If it is then we pass into another conditional:\n",
    "        -  where              checks if the actual value of the rating, which is                stored in `n_reviews` is bigger than the value of the            key stored inside the dictionarie. If it is, then we              change the value.*\n",
    "  \n",
    "If the name is not inside the dictionarie, then we add it \n",
    "\n",
    "And with that we have in our dictionarie as a key the name of the app and as the value the bigger rating that has asigned to tah name. So in other words, this dictionarie has the information of the rows in the data base that we need.\n",
    "     "
   ]
  },
  {
   "cell_type": "code",
   "execution_count": 12,
   "metadata": {},
   "outputs": [
    {
     "name": "stdout",
     "output_type": "stream",
     "text": [
      "9659\n"
     ]
    }
   ],
   "source": [
    "'''Aqui encontramos las apps con la info que deben \n",
    "tener para ser agregadas'''\n",
    "reviews_max={}\n",
    "for row in nuevo2:\n",
    "    name=row[0]\n",
    "    n_reviews=float(row[3])\n",
    "    if name in reviews_max:\n",
    "        if n_reviews>reviews_max[name]:\n",
    "            reviews_max[name]=n_reviews\n",
    "    else:\n",
    "        reviews_max[name]=n_reviews\n",
    "print(len(reviews_max))"
   ]
  },
  {
   "cell_type": "markdown",
   "metadata": {},
   "source": [
    "Now its time to get the rows we need.\n",
    "\n",
    "- So first we create two empty lists called `android_clean` and \n",
    "`already_added`.\n",
    "\n",
    "- Then we iterate for every row in our database:\n",
    "    - In the current row at index number 0, which has the app name, we asign it to a variable called `name`.\n",
    "    -In the current row at index number 3, which has the app reviews, we asign it to a variable called `n_reviews`.\n",
    "    \n",
    "Now, it is important to have in mind the dictionarie that we created before called `reviews_max`.\n",
    "\n",
    "- Wewill make an if statement where it will check the following:\n",
    "    - The current reviews are the same as the one we have in the ditionarie for that name, that in the dictionarie es the key.\n",
    "    - The current name is not inside the `already_added` list. This is very important, because we may have, in the duplicates, the same higher review value for more than one entry , so, if that is the case, then we will add duplicates inside our `android_clean` list.\n",
    "    \n",
    "    - Finally we add the row inside the `android_clean` list and the name insde the `already_added` list."
   ]
  },
  {
   "cell_type": "code",
   "execution_count": 13,
   "metadata": {},
   "outputs": [
    {
     "name": "stdout",
     "output_type": "stream",
     "text": [
      "9659\n"
     ]
    }
   ],
   "source": [
    "android_clean=[]\n",
    "already_added=[]\n",
    "for row in nuevo2:\n",
    "    name=row[0]\n",
    "    n_reviews=float(row[3])\n",
    "    if name not in already_added and n_reviews==reviews_max[name]:\n",
    "        android_clean.append(row)\n",
    "        already_added.append(name)\n",
    "print(len(android_clean))\n",
    "        \n",
    "        \n",
    "        \n",
    "    "
   ]
  },
  {
   "cell_type": "code",
   "execution_count": 14,
   "metadata": {},
   "outputs": [
    {
     "name": "stdout",
     "output_type": "stream",
     "text": [
      "False\n"
     ]
    }
   ],
   "source": [
    "def english(string):\n",
    "    i=0\n",
    "    for letter in string:\n",
    "        num=ord(letter)\n",
    "        if num>127:\n",
    "            i+=1\n",
    "    if i>3:\n",
    "        return False       \n",
    "    return True\n",
    "\n",
    "print(english('爱奇艺PPS -《欢乐颂2》电视剧热播'))"
   ]
  },
  {
   "cell_type": "code",
   "execution_count": 27,
   "metadata": {},
   "outputs": [
    {
     "name": "stdout",
     "output_type": "stream",
     "text": [
      "6183\n"
     ]
    }
   ],
   "source": [
    "#Checamos cuantas apps pueden no estar en ingles, si lo estan\n",
    "#lo agregamos a otra lista Apple\n",
    "lang_en1=[]\n",
    "for row in nuevo1:\n",
    "    name=row[1]\n",
    "    language=english(name)\n",
    "    if language==True:\n",
    "        lang_en1.append(row)\n",
    "print(len(lang_en1))\n",
    "        \n",
    "    "
   ]
  },
  {
   "cell_type": "code",
   "execution_count": 16,
   "metadata": {},
   "outputs": [
    {
     "name": "stdout",
     "output_type": "stream",
     "text": [
      "9614\n"
     ]
    }
   ],
   "source": [
    "#Checamos cuantas apps pueden no estar en ingles, si lo estan\n",
    "#lo agregamos a otra lista Play Store\n",
    "lang_en2=[]\n",
    "for row in android_clean:\n",
    "    name=row[0]\n",
    "    language=english(name)\n",
    "    if language==True:\n",
    "        lang_en2.append(row)\n",
    "print(len(lang_en2))"
   ]
  },
  {
   "cell_type": "markdown",
   "metadata": {},
   "source": [
    "## Cleaning Non Free Apps"
   ]
  },
  {
   "cell_type": "code",
   "execution_count": 28,
   "metadata": {},
   "outputs": [
    {
     "name": "stdout",
     "output_type": "stream",
     "text": [
      "8864\n"
     ]
    }
   ],
   "source": [
    "#Google Play Store\n",
    "final2=[]\n",
    "for row in lang_en2:\n",
    "    type=row[7]\n",
    "    if type=='0':\n",
    "        final2.append(row)\n",
    "print(len(final2))\n"
   ]
  },
  {
   "cell_type": "code",
   "execution_count": 29,
   "metadata": {},
   "outputs": [
    {
     "name": "stdout",
     "output_type": "stream",
     "text": [
      "3222\n"
     ]
    }
   ],
   "source": [
    "#para iOS\n",
    "final1=[]\n",
    "for row in lang_en1:\n",
    "    type=float(row[4])\n",
    "    if type==0.0:\n",
    "        final1.append(row)\n",
    "print(len(final1))\n",
    "    "
   ]
  },
  {
   "cell_type": "markdown",
   "metadata": {},
   "source": [
    "## Starting the analysis\n",
    "\n",
    "The revenue of the company is influenced by the number of users in our apps due the apps that we create are free to use, so the income comes from publicity. The more the poeple use our apps the more money we get.\n",
    "\n",
    "Create an app consumes a lot of resources, to minimize risks and losts, the creating of an app follows the next steps:\n",
    "\n",
    "- Build a minimal Anfroid Version of the app and add it to Google Play Store.\n",
    "- If the app has a good response, the app is developed further.\n",
    "- If the app is profitable after six months, we built an iOs versions of the app.\n",
    "\n",
    "We wan that the app has good acceptance in both platforms to generate more income. \n",
    "\n",
    "To know which apps are our target we need to know which are the most common apps. With this information we will create frequency tables to visualize better the information.\n",
    "\n",
    "The columns that could help us to find are:\n",
    "\n",
    "Apple Store: `prime_genres` column index `11`\n",
    "\n",
    "Google Play Store: `Genres` column index `9`"
   ]
  },
  {
   "cell_type": "code",
   "execution_count": 19,
   "metadata": {},
   "outputs": [
    {
     "name": "stdout",
     "output_type": "stream",
     "text": [
      "{'Social Networking': 3.29, 'Photo & Video': 4.97, 'Games': 58.16, 'Music': 2.05, 'Reference': 0.56, 'Health & Fitness': 2.02, 'Weather': 0.87, 'Utilities': 2.51, 'Travel': 1.24, 'Shopping': 2.61, 'News': 1.33, 'Navigation': 0.19, 'Lifestyle': 1.58, 'Entertainment': 7.88, 'Food & Drink': 0.81, 'Sports': 2.14, 'Book': 0.43, 'Finance': 1.12, 'Education': 3.66, 'Productivity': 1.74, 'Business': 0.53, 'Catalogs': 0.12, 'Medical': 0.19}\n"
     ]
    }
   ],
   "source": [
    "#Genera la tabla de frecuencias para cualquier dataset y cualquier columna\n",
    "def freq_table(dataset, index):#index es para la columna\n",
    "    longitud=len(dataset)\n",
    "    diccionario={}\n",
    "    for row in dataset:\n",
    "        key=row[index]\n",
    "        if key in diccionario:\n",
    "            diccionario[key]+=1\n",
    "        else:\n",
    "            diccionario[key]=1\n",
    "            \n",
    "    for each in diccionario:\n",
    "        value=diccionario[each]\n",
    "        new=round((value/longitud)*100,2)\n",
    "        diccionario[each]=new\n",
    "    return diccionario\n",
    "print(freq_table(final1,11))"
   ]
  },
  {
   "cell_type": "code",
   "execution_count": 20,
   "metadata": {},
   "outputs": [],
   "source": [
    "def display_table(dataset, index):\n",
    "    table = freq_table(dataset, index)\n",
    "    table_display = []\n",
    "    for key in table:\n",
    "        key_val_as_tuple = (table[key], key)\n",
    "        table_display.append(key_val_as_tuple)\n",
    "\n",
    "    table_sorted = sorted(table_display, reverse = True)\n",
    "    for entry in table_sorted:\n",
    "        print(entry[1], ':', entry[0])"
   ]
  },
  {
   "cell_type": "code",
   "execution_count": 21,
   "metadata": {},
   "outputs": [
    {
     "name": "stdout",
     "output_type": "stream",
     "text": [
      "Games : 58.16\n",
      "Entertainment : 7.88\n",
      "Photo & Video : 4.97\n",
      "Education : 3.66\n",
      "Social Networking : 3.29\n",
      "Shopping : 2.61\n",
      "Utilities : 2.51\n",
      "Sports : 2.14\n",
      "Music : 2.05\n",
      "Health & Fitness : 2.02\n",
      "Productivity : 1.74\n",
      "Lifestyle : 1.58\n",
      "News : 1.33\n",
      "Travel : 1.24\n",
      "Finance : 1.12\n",
      "Weather : 0.87\n",
      "Food & Drink : 0.81\n",
      "Reference : 0.56\n",
      "Business : 0.53\n",
      "Book : 0.43\n",
      "Navigation : 0.19\n",
      "Medical : 0.19\n",
      "Catalogs : 0.12\n"
     ]
    }
   ],
   "source": [
    "#Tabla de frecuencias para iOs en la columna prime_genre\n",
    "display_table(final1,11)"
   ]
  },
  {
   "cell_type": "code",
   "execution_count": 22,
   "metadata": {},
   "outputs": [
    {
     "name": "stdout",
     "output_type": "stream",
     "text": [
      "FAMILY : 18.91\n",
      "GAME : 9.72\n",
      "TOOLS : 8.46\n",
      "BUSINESS : 4.59\n",
      "LIFESTYLE : 3.9\n",
      "PRODUCTIVITY : 3.89\n",
      "FINANCE : 3.7\n",
      "MEDICAL : 3.53\n",
      "SPORTS : 3.4\n",
      "PERSONALIZATION : 3.32\n",
      "COMMUNICATION : 3.24\n",
      "HEALTH_AND_FITNESS : 3.08\n",
      "PHOTOGRAPHY : 2.94\n",
      "NEWS_AND_MAGAZINES : 2.8\n",
      "SOCIAL : 2.66\n",
      "TRAVEL_AND_LOCAL : 2.34\n",
      "SHOPPING : 2.25\n",
      "BOOKS_AND_REFERENCE : 2.14\n",
      "DATING : 1.86\n",
      "VIDEO_PLAYERS : 1.79\n",
      "MAPS_AND_NAVIGATION : 1.4\n",
      "FOOD_AND_DRINK : 1.24\n",
      "EDUCATION : 1.16\n",
      "ENTERTAINMENT : 0.96\n",
      "LIBRARIES_AND_DEMO : 0.94\n",
      "AUTO_AND_VEHICLES : 0.93\n",
      "HOUSE_AND_HOME : 0.82\n",
      "WEATHER : 0.8\n",
      "EVENTS : 0.71\n",
      "PARENTING : 0.65\n",
      "ART_AND_DESIGN : 0.64\n",
      "COMICS : 0.62\n",
      "BEAUTY : 0.6\n"
     ]
    }
   ],
   "source": [
    "#Tabla de frecuencias para Play Sore en la columna Category\n",
    "display_table(final2,1)"
   ]
  },
  {
   "cell_type": "code",
   "execution_count": 24,
   "metadata": {},
   "outputs": [
    {
     "name": "stdout",
     "output_type": "stream",
     "text": [
      "Social Networking : 7154834.91\n",
      "Photo & Video : 2844154.38\n",
      "Games : 2278866.97\n",
      "Music : 5732653.03\n",
      "Reference : 7494211.11\n",
      "Health & Fitness : 2329801.54\n",
      "Weather : 5227989.29\n",
      "Utilities : 1868445.68\n",
      "Travel : 2824380.0\n",
      "Shopping : 2691969.05\n",
      "News : 2124802.33\n",
      "Navigation : 8609033.33\n",
      "Lifestyle : 1648576.47\n",
      "Entertainment : 1402983.07\n",
      "Food & Drink : 3333392.31\n",
      "Sports : 2300889.86\n",
      "Book : 3975850.0\n",
      "Finance : 3146794.44\n",
      "Education : 700398.31\n",
      "Productivity : 2102841.07\n",
      "Business : 749111.76\n",
      "Catalogs : 400400.0\n",
      "Medical : 61200.0\n"
     ]
    }
   ],
   "source": [
    "freqtable=freq_table(final1,11)\n",
    "for k in freqtable:\n",
    "    total=0#store the sum of user rating\n",
    "    len_genre=0#number apps for each genre\n",
    "    for each in final1:\n",
    "        genre_app=each[11]\n",
    "        if genre_app==k:\n",
    "            count=float(each[5])\n",
    "            total+=count\n",
    "            len_genre+=1\n",
    "    average=round(((total/len_genre)*100),2)\n",
    "    print(k, ':', average)\n",
    "        "
   ]
  },
  {
   "cell_type": "code",
   "execution_count": 25,
   "metadata": {},
   "outputs": [
    {
     "name": "stdout",
     "output_type": "stream",
     "text": [
      "ART_AND_DESIGN : 198633508.77\n",
      "AUTO_AND_VEHICLES : 64731781.71\n",
      "BEAUTY : 51315188.68\n",
      "BOOKS_AND_REFERENCE : 876781189.47\n",
      "BUSINESS : 171229014.74\n",
      "COMICS : 81765727.27\n",
      "COMMUNICATION : 3845611916.72\n",
      "DATING : 85402883.03\n",
      "EDUCATION : 183349514.56\n",
      "ENTERTAINMENT : 1164070588.24\n",
      "EVENTS : 25354222.22\n",
      "FINANCE : 138769247.56\n",
      "FOOD_AND_DRINK : 192489773.64\n",
      "HEALTH_AND_FITNESS : 418882198.53\n",
      "HOUSE_AND_HOME : 133154056.16\n",
      "LIBRARIES_AND_DEMO : 63850373.49\n",
      "LIFESTYLE : 143781626.88\n",
      "GAME : 1558801560.32\n",
      "FAMILY : 369564181.98\n",
      "MEDICAL : 12055061.98\n",
      "SOCIAL : 2325365212.71\n",
      "SHOPPING : 703687731.16\n",
      "PHOTOGRAPHY : 1784011040.23\n",
      "SPORTS : 363864014.29\n",
      "TRAVEL_AND_LOCAL : 1398407771.01\n",
      "TOOLS : 1080139129.87\n",
      "PERSONALIZATION : 520148261.22\n",
      "PRODUCTIVITY : 1678733134.49\n",
      "PARENTING : 54260362.07\n",
      "WEATHER : 507448619.72\n",
      "VIDEO_PLAYERS : 2472787245.28\n",
      "NEWS_AND_MAGAZINES : 954917846.77\n",
      "MAPS_AND_NAVIGATION : 405694177.42\n"
     ]
    }
   ],
   "source": [
    "freqtable2=freq_table(final2,1)\n",
    "for k in freqtable2:\n",
    "    total2=0#store the sum of user rating\n",
    "    len_category2=0#number apps for each genre\n",
    "    for each in final2:\n",
    "        category_app=each[1]\n",
    "        if category_app==k:\n",
    "            numero=each[5]\n",
    "            numero=numero.replace('+','')\n",
    "            numero=numero.replace(',','')\n",
    "            numero=float(numero)\n",
    "            total2+=numero\n",
    "            len_category2+=1\n",
    "    avg=round(((total2/len_category2)*100),2)\n",
    "    print(k, ':', avg)"
   ]
  },
  {
   "cell_type": "markdown",
   "metadata": {},
   "source": [
    "Analizing the previous information we can recomend to develope an app, based on the total apps genres downloads, in the genre `TRAVEL_AND_LOCAL` due the total of downloads of all the apps inside that genre are 1,398,407,771"
   ]
  },
  {
   "cell_type": "code",
   "execution_count": null,
   "metadata": {},
   "outputs": [],
   "source": []
  }
 ],
 "metadata": {
  "kernelspec": {
   "display_name": "Python 3",
   "language": "python",
   "name": "python3"
  },
  "language_info": {
   "codemirror_mode": {
    "name": "ipython",
    "version": 3
   },
   "file_extension": ".py",
   "mimetype": "text/x-python",
   "name": "python",
   "nbconvert_exporter": "python",
   "pygments_lexer": "ipython3",
   "version": "3.8.2"
  }
 },
 "nbformat": 4,
 "nbformat_minor": 2
}
