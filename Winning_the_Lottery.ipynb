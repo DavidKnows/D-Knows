{
 "cells": [
  {
   "cell_type": "markdown",
   "metadata": {},
   "source": [
    "## Mobile App for Lottery Addiction\n",
    "\n",
    "A lot of people buy lottery tickets for fun, but sometimes, people make this a habit that with time becomes an addiction, bringin problems in their lifes like spending their savings and loans, accumulate debts and so on.\n",
    "\n",
    "In this project a fictional scenerio happens. A medical institute that want to prevent gambling addiction want to create a mobile app to help lottery addicts to better estimate their chances of winning. Yhe insitute has thei engeenring team to develope the app, but needs help to develope the logical part to calculate probabilities.\n",
    "\n",
    "In this poject we will build the probability core of that mobile app."
   ]
  },
  {
   "cell_type": "code",
   "execution_count": 1,
   "metadata": {
    "collapsed": true
   },
   "outputs": [],
   "source": [
    "import pandas as pd"
   ]
  },
  {
   "cell_type": "markdown",
   "metadata": {},
   "source": [
    "Along the proect we will need to calculate probabilities and combination, that is why it is good to create righ now two functions that will help us to do that, a factorial function and a combination funciton."
   ]
  },
  {
   "cell_type": "code",
   "execution_count": 2,
   "metadata": {
    "collapsed": true
   },
   "outputs": [],
   "source": [
    "#Factorial function\n",
    "\n",
    "def factorial(n):\n",
    "    fac=1\n",
    "    for i in range(n,0,-1):\n",
    "        fac*=i\n",
    "    return fac\n",
    "\n",
    "# Combination function\n",
    "\n",
    "def combination(n,k):\n",
    "    x=factorial(n)\n",
    "    y=factorial(k)\n",
    "    z=factorial(n-k)\n",
    "    return x/(y*z)\n"
   ]
  },
  {
   "cell_type": "markdown",
   "metadata": {
    "collapsed": true
   },
   "source": [
    "## Probability of winning Big Prize with one ticket\n",
    "\n",
    "In the lottery, you only win the big price if every number of your lottery tickt matches all the final lottery numbers, for example, if you pick `{4,12,20,22,34,36}` you only win the big prize if the final numbers are `{4,12,20,22,34,36}`.\n",
    "\n",
    "In the version one of the app, the app will only tell the probability of the person to win the big prize playing only with `1` ticket.\n",
    "\n",
    "According to the engeneerings, the person who wants to know their probability will enter 6 different numbers from 1 to 49, the app then will convert the 6 numbers into a python list.\n",
    "\n",
    "The Engeneers want the output to be readable for people who does not undertand difficult notation."
   ]
  },
  {
   "cell_type": "code",
   "execution_count": 3,
   "metadata": {
    "collapsed": false
   },
   "outputs": [],
   "source": [
    "def one_ticket_probability(numbers):\n",
    "    out=combination(49,len(numbers)) # Generate the different combination acording the list numbers\n",
    "    \n",
    "    prob=(1/out)*100  #Calculate the probability in %\n",
    "    \n",
    "    prop_txt=int(str(prob)[-1]) #Take the e-# number\n",
    "    \n",
    "    prop_txt_2=str(prob)[0] #Take the first number of probability\n",
    "    \n",
    "    decimal='0'*(prop_txt-1) #Create a readable number for the person\n",
    "\n",
    "    decimal_2='0.'+decimal+prop_txt_2 #Create a readable number for the person\n",
    "    \n",
    "    return 'The probability to win the big prize is {}%'.format(decimal_2) \n",
    "    "
   ]
  },
  {
   "cell_type": "markdown",
   "metadata": {},
   "source": [
    "Checking  the function with a lottery ticket of `1,2,3,4,5,6`"
   ]
  },
  {
   "cell_type": "code",
   "execution_count": 4,
   "metadata": {
    "collapsed": false
   },
   "outputs": [
    {
     "data": {
      "text/plain": [
       "'The probability to win the big prize is 0.000007%'"
      ]
     },
     "execution_count": 4,
     "metadata": {},
     "output_type": "execute_result"
    }
   ],
   "source": [
    "x=[1,2,3,4,5,6]\n",
    "one_ticket_probability(x)"
   ]
  },
  {
   "cell_type": "markdown",
   "metadata": {},
   "source": [
    "## Checking historical winnings\n",
    "\n",
    "People also can compare their ticket against historical lottery data from Canada and determine whether they would have won by now.\n",
    "\n",
    "The dataset with all the winning tickets can be found [here](https://www.kaggle.com/datascienceai/lottery-dataset). The dataset contains historical data from 1982 to 2018\n",
    "\n",
    "Let's read the data set to get familiar with it.\n"
   ]
  },
  {
   "cell_type": "code",
   "execution_count": 5,
   "metadata": {
    "collapsed": false
   },
   "outputs": [
    {
     "data": {
      "text/html": [
       "<div>\n",
       "<style scoped>\n",
       "    .dataframe tbody tr th:only-of-type {\n",
       "        vertical-align: middle;\n",
       "    }\n",
       "\n",
       "    .dataframe tbody tr th {\n",
       "        vertical-align: top;\n",
       "    }\n",
       "\n",
       "    .dataframe thead th {\n",
       "        text-align: right;\n",
       "    }\n",
       "</style>\n",
       "<table border=\"1\" class=\"dataframe\">\n",
       "  <thead>\n",
       "    <tr style=\"text-align: right;\">\n",
       "      <th></th>\n",
       "      <th>PRODUCT</th>\n",
       "      <th>DRAW NUMBER</th>\n",
       "      <th>SEQUENCE NUMBER</th>\n",
       "      <th>DRAW DATE</th>\n",
       "      <th>NUMBER DRAWN 1</th>\n",
       "      <th>NUMBER DRAWN 2</th>\n",
       "      <th>NUMBER DRAWN 3</th>\n",
       "      <th>NUMBER DRAWN 4</th>\n",
       "      <th>NUMBER DRAWN 5</th>\n",
       "      <th>NUMBER DRAWN 6</th>\n",
       "      <th>BONUS NUMBER</th>\n",
       "    </tr>\n",
       "  </thead>\n",
       "  <tbody>\n",
       "    <tr>\n",
       "      <th>0</th>\n",
       "      <td>649</td>\n",
       "      <td>1</td>\n",
       "      <td>0</td>\n",
       "      <td>6/12/1982</td>\n",
       "      <td>3</td>\n",
       "      <td>11</td>\n",
       "      <td>12</td>\n",
       "      <td>14</td>\n",
       "      <td>41</td>\n",
       "      <td>43</td>\n",
       "      <td>13</td>\n",
       "    </tr>\n",
       "    <tr>\n",
       "      <th>1</th>\n",
       "      <td>649</td>\n",
       "      <td>2</td>\n",
       "      <td>0</td>\n",
       "      <td>6/19/1982</td>\n",
       "      <td>8</td>\n",
       "      <td>33</td>\n",
       "      <td>36</td>\n",
       "      <td>37</td>\n",
       "      <td>39</td>\n",
       "      <td>41</td>\n",
       "      <td>9</td>\n",
       "    </tr>\n",
       "    <tr>\n",
       "      <th>2</th>\n",
       "      <td>649</td>\n",
       "      <td>3</td>\n",
       "      <td>0</td>\n",
       "      <td>6/26/1982</td>\n",
       "      <td>1</td>\n",
       "      <td>6</td>\n",
       "      <td>23</td>\n",
       "      <td>24</td>\n",
       "      <td>27</td>\n",
       "      <td>39</td>\n",
       "      <td>34</td>\n",
       "    </tr>\n",
       "  </tbody>\n",
       "</table>\n",
       "</div>"
      ],
      "text/plain": [
       "   PRODUCT  DRAW NUMBER  SEQUENCE NUMBER  DRAW DATE  NUMBER DRAWN 1  \\\n",
       "0      649            1                0  6/12/1982               3   \n",
       "1      649            2                0  6/19/1982               8   \n",
       "2      649            3                0  6/26/1982               1   \n",
       "\n",
       "   NUMBER DRAWN 2  NUMBER DRAWN 3  NUMBER DRAWN 4  NUMBER DRAWN 5  \\\n",
       "0              11              12              14              41   \n",
       "1              33              36              37              39   \n",
       "2               6              23              24              27   \n",
       "\n",
       "   NUMBER DRAWN 6  BONUS NUMBER  \n",
       "0              43            13  \n",
       "1              41             9  \n",
       "2              39            34  "
      ]
     },
     "execution_count": 5,
     "metadata": {},
     "output_type": "execute_result"
    }
   ],
   "source": [
    "hist=pd.read_csv('649.csv')\n",
    "hist.head(3)"
   ]
  },
  {
   "cell_type": "code",
   "execution_count": 6,
   "metadata": {
    "collapsed": false,
    "scrolled": true
   },
   "outputs": [
    {
     "data": {
      "text/html": [
       "<div>\n",
       "<style scoped>\n",
       "    .dataframe tbody tr th:only-of-type {\n",
       "        vertical-align: middle;\n",
       "    }\n",
       "\n",
       "    .dataframe tbody tr th {\n",
       "        vertical-align: top;\n",
       "    }\n",
       "\n",
       "    .dataframe thead th {\n",
       "        text-align: right;\n",
       "    }\n",
       "</style>\n",
       "<table border=\"1\" class=\"dataframe\">\n",
       "  <thead>\n",
       "    <tr style=\"text-align: right;\">\n",
       "      <th></th>\n",
       "      <th>PRODUCT</th>\n",
       "      <th>DRAW NUMBER</th>\n",
       "      <th>SEQUENCE NUMBER</th>\n",
       "      <th>DRAW DATE</th>\n",
       "      <th>NUMBER DRAWN 1</th>\n",
       "      <th>NUMBER DRAWN 2</th>\n",
       "      <th>NUMBER DRAWN 3</th>\n",
       "      <th>NUMBER DRAWN 4</th>\n",
       "      <th>NUMBER DRAWN 5</th>\n",
       "      <th>NUMBER DRAWN 6</th>\n",
       "      <th>BONUS NUMBER</th>\n",
       "    </tr>\n",
       "  </thead>\n",
       "  <tbody>\n",
       "    <tr>\n",
       "      <th>3662</th>\n",
       "      <td>649</td>\n",
       "      <td>3589</td>\n",
       "      <td>0</td>\n",
       "      <td>6/13/2018</td>\n",
       "      <td>6</td>\n",
       "      <td>22</td>\n",
       "      <td>24</td>\n",
       "      <td>31</td>\n",
       "      <td>32</td>\n",
       "      <td>34</td>\n",
       "      <td>16</td>\n",
       "    </tr>\n",
       "    <tr>\n",
       "      <th>3663</th>\n",
       "      <td>649</td>\n",
       "      <td>3590</td>\n",
       "      <td>0</td>\n",
       "      <td>6/16/2018</td>\n",
       "      <td>2</td>\n",
       "      <td>15</td>\n",
       "      <td>21</td>\n",
       "      <td>31</td>\n",
       "      <td>38</td>\n",
       "      <td>49</td>\n",
       "      <td>8</td>\n",
       "    </tr>\n",
       "    <tr>\n",
       "      <th>3664</th>\n",
       "      <td>649</td>\n",
       "      <td>3591</td>\n",
       "      <td>0</td>\n",
       "      <td>6/20/2018</td>\n",
       "      <td>14</td>\n",
       "      <td>24</td>\n",
       "      <td>31</td>\n",
       "      <td>35</td>\n",
       "      <td>37</td>\n",
       "      <td>48</td>\n",
       "      <td>17</td>\n",
       "    </tr>\n",
       "  </tbody>\n",
       "</table>\n",
       "</div>"
      ],
      "text/plain": [
       "      PRODUCT  DRAW NUMBER  SEQUENCE NUMBER  DRAW DATE  NUMBER DRAWN 1  \\\n",
       "3662      649         3589                0  6/13/2018               6   \n",
       "3663      649         3590                0  6/16/2018               2   \n",
       "3664      649         3591                0  6/20/2018              14   \n",
       "\n",
       "      NUMBER DRAWN 2  NUMBER DRAWN 3  NUMBER DRAWN 4  NUMBER DRAWN 5  \\\n",
       "3662              22              24              31              32   \n",
       "3663              15              21              31              38   \n",
       "3664              24              31              35              37   \n",
       "\n",
       "      NUMBER DRAWN 6  BONUS NUMBER  \n",
       "3662              34            16  \n",
       "3663              49             8  \n",
       "3664              48            17  "
      ]
     },
     "execution_count": 6,
     "metadata": {},
     "output_type": "execute_result"
    }
   ],
   "source": [
    "hist.tail(3)"
   ]
  },
  {
   "cell_type": "markdown",
   "metadata": {},
   "source": [
    "The mobile app should say the number of times the lottery ticket has ocurred in the Canda set and the probability of winning the big prize in the next drawing with that combination."
   ]
  },
  {
   "cell_type": "code",
   "execution_count": 7,
   "metadata": {
    "collapsed": false,
    "scrolled": true
   },
   "outputs": [
    {
     "data": {
      "text/plain": [
       "0    3591\n",
       "1      45\n",
       "2      19\n",
       "3      10\n",
       "Name: SEQUENCE NUMBER, dtype: int64"
      ]
     },
     "execution_count": 7,
     "metadata": {},
     "output_type": "execute_result"
    }
   ],
   "source": [
    "hist['SEQUENCE NUMBER'].value_counts()"
   ]
  },
  {
   "cell_type": "markdown",
   "metadata": {},
   "source": [
    "In the datset, each number from the lottery ticket is stores in a differente column, we want the number together, so lets get all those numbers."
   ]
  },
  {
   "cell_type": "code",
   "execution_count": 8,
   "metadata": {
    "collapsed": false
   },
   "outputs": [],
   "source": [
    "def extract_numbers(row):\n",
    "    #Take from the column 5 'til the end.\n",
    "    n=row[5:]\n",
    "    s=set(n)\n",
    "    return s"
   ]
  },
  {
   "cell_type": "code",
   "execution_count": 9,
   "metadata": {
    "collapsed": true
   },
   "outputs": [],
   "source": [
    "#Apply the previous function\n",
    "numbers=hist.apply(extract_numbers,axis=1)"
   ]
  },
  {
   "cell_type": "code",
   "execution_count": 10,
   "metadata": {
    "collapsed": false
   },
   "outputs": [],
   "source": [
    "def check_historical_occurence(lista,series):\n",
    "    s=set(lista)#Transform the user number into a set\n",
    "    boolean=s==series #comparing the user number with all the winning numbers\n",
    "    bool_sum=boolean.sum() #Sum how many time the user ticket appeared\n",
    "    \n",
    "    out=combination(49,len(lista))\n",
    "    \n",
    "    prob=(1/out*100)  #Calculate the probability in %\n",
    "    \n",
    "    prop_txt=int(str(prob)[-1]) #Take the e-# number\n",
    "    \n",
    "    prop_txt_2=str(prob)[:2] #Take the first number of probability\n",
    "    \n",
    "    decimal='0'*(prop_txt-1) #Create a readable number for the person\n",
    "\n",
    "    decimal_2='0.'+decimal+prop_txt_2 #Create a readable number for the person\n",
    "    \n",
    "    return 'Your number has won {} times.'.format(bool_sum) + ' The probability to win the big prize is {}%'.format(decimal_2) \n"
   ]
  },
  {
   "cell_type": "markdown",
   "metadata": {},
   "source": [
    "Checking the new function with a user nomber od `1,3,5,8,9,45`"
   ]
  },
  {
   "cell_type": "code",
   "execution_count": 11,
   "metadata": {
    "collapsed": false
   },
   "outputs": [
    {
     "data": {
      "text/plain": [
       "'Your number has won 0 times. The probability to win the big prize is 0.000007.%'"
      ]
     },
     "execution_count": 11,
     "metadata": {},
     "output_type": "execute_result"
    }
   ],
   "source": [
    "f=check_historical_occurence([1,3,5,8,9,45],numbers)\n",
    "f"
   ]
  },
  {
   "cell_type": "markdown",
   "metadata": {},
   "source": [
    "## Probability to win with more than One ticket\n",
    "\n",
    "Lottery addicts ussually play more than 1 time per lottery, thinking that in that way, they will have more chancves of winnnign, the purpose of this space is to let them understand their chanves according the number of lottery tikets they play.\n",
    "\n",
    "The numbers of the lottery ticket did not really matter here, the only thing that matters is the amount of tockets the person played."
   ]
  },
  {
   "cell_type": "code",
   "execution_count": 12,
   "metadata": {
    "collapsed": false
   },
   "outputs": [
    {
     "data": {
      "text/plain": [
       "'The probability to win the big prize with 4 different tickets is 0.00002860%'"
      ]
     },
     "execution_count": 12,
     "metadata": {},
     "output_type": "execute_result"
    }
   ],
   "source": [
    "def multi_ticket_probability(outcomes):\n",
    "    total_outcomes=combination(49,6)\n",
    "    prob=(outcomes/total_outcomes)*100\n",
    "    return 'The probability to win the big prize with {} different tickets is {:.8f}%'.format(outcomes,prob)\n",
    "multi_ticket_probability(4)"
   ]
  },
  {
   "cell_type": "markdown",
   "metadata": {},
   "source": [
    "Let's test this fuction with different amount of tickets."
   ]
  },
  {
   "cell_type": "code",
   "execution_count": 17,
   "metadata": {
    "collapsed": false
   },
   "outputs": [
    {
     "name": "stdout",
     "output_type": "stream",
     "text": [
      "The probability to win the big prize with 1 different tickets is 0.00000715%\n",
      "------------------------\n",
      "The probability to win the big prize with 10 different tickets is 0.00007151%\n",
      "------------------------\n",
      "The probability to win the big prize with 100 different tickets is 0.00071511%\n",
      "------------------------\n",
      "The probability to win the big prize with 10000 different tickets is 0.07151124%\n",
      "------------------------\n",
      "The probability to win the big prize with 1000000 different tickets is 7.15112384%\n",
      "------------------------\n",
      "The probability to win the big prize with 6991908 different tickets is 50.00000000%\n",
      "------------------------\n",
      "The probability to win the big prize with 13983816 different tickets is 100.00000000%\n",
      "------------------------\n"
     ]
    }
   ],
   "source": [
    "test=[1, 10, 100, 10000, 1000000, 6991908, 13983816]\n",
    "\n",
    "for each in test:\n",
    "    print(multi_ticket_probability(each))\n",
    "    print('------------------------')"
   ]
  },
  {
   "cell_type": "markdown",
   "metadata": {},
   "source": [
    "In order to have a probability of winning less than 10% you should buy 1 milliontickets, wich is a lot of money to spent for a little probability.\n",
    "\n",
    "## Probability of winning with 2,3,4 and 5 winning numbers.\n",
    "\n",
    "In almost all lotteries there are prizes for tickets that were able to match 2,3,4 and 5 numbers. As a consequence the user of the app mey be interested to know the probabilities to win some of these prizes."
   ]
  },
  {
   "cell_type": "code",
   "execution_count": 14,
   "metadata": {
    "collapsed": false
   },
   "outputs": [
    {
     "name": "stdout",
     "output_type": "stream",
     "text": [
      "903.0\n"
     ]
    }
   ],
   "source": [
    "print(combination(43,2))"
   ]
  },
  {
   "cell_type": "code",
   "execution_count": 15,
   "metadata": {
    "collapsed": true
   },
   "outputs": [],
   "source": [
    "def probability_less_6(number):\n",
    "    #Cda boleto tiene 6 numeros elegidos. Quiero ver la probabilidad de atinarle a cierta cantidad\n",
    "    #De numeros, para eso, calculo cuantas salidas hay de la cantidad de numeros que quiero que \n",
    "    #atinen dentro de mis 6 numeros elegidos. Por ejemplo cuantas combinaciones totales hay de 5 numeros\n",
    "    #para mis 6 numeros elegidos.\n",
    "    \n",
    "    #Esto dara 6. Significa que hay 6 salidas distintas usando 5 numeros de los 6 que meti.\n",
    "    \n",
    "    #Cada uno de estos 6 sets de 5 numeros les falta 1 numero para que sean 6 en total, y esa variacion\n",
    "    #de 1 numero son las distintas salidas que puede llegar a tener cada uno de los sets.\n",
    "    \n",
    "    #Al haber usado 6 numeros, entonces 49-6=43, me quedan 43 numeros para repartir en sets de 1, por lo\n",
    "    #que las combinaciones de 43-1 es de 43, entonces cada set de 5 numeros generada de un set de 6,\n",
    "    # tiene 43 combinaciones, el total entonces es de 6* 43.\n",
    "    \n",
    "    \n",
    "    #Pasemos al de 4, Dentro de mi boleto de 6 numeros, quiero ver la probabilidad de obtener 4 numeros\n",
    "    #acertados, para ello veo cuantos cuantos salidas exitosas tengo al sacar las combianaciones de\n",
    "    #4 numeros en dentro de mis 6 numeros, eso me da igual a 15.\n",
    "    \n",
    "    #Entonces tengo 15 sets distintos de 4 numeros. \n",
    "    \n",
    "    #A cada uno de este set le hace falta 2 numeros para poder completarse los 6 numeros.\n",
    "    #Quedan 43 numeros para elegir, y se pueden combinar en set de 2, asi que las combinaciones son de\n",
    "    # 903 sets, entonces cada set de los 15 sets puede variar 903 veces, entonces el numero de resultados \n",
    "    #existosos es de 15*903. Haciendo la probabilidad, es este numero dividido entre las combinaciones\n",
    "    #totales\n",
    "    \n",
    "    #Con esta logica, hagamos una funcion que me permita saber las probailidades.\n",
    "    \n",
    "    outcomes_number=combination(6,number) #Knowing how many combinations of # numbers we can make with our 6 ticket numbers\n",
    "    restantes=6-number #How many numbers remain \n",
    "    rest_combinatios=combination(43,restantes) #How many combination there are from the left numbers\n",
    "    total_success_outcomes=outcomes_number*rest_combinatios #Number of success outcomes\n",
    "    total_outcomes=combination(49,6)\n",
    "    prob=total_success_outcomes/total_outcomes\n",
    "    return prob*100\n",
    "    \n",
    "    "
   ]
  },
  {
   "cell_type": "markdown",
   "metadata": {},
   "source": [
    "Lets know now the probability to win with different numbers."
   ]
  },
  {
   "cell_type": "code",
   "execution_count": 20,
   "metadata": {
    "collapsed": false
   },
   "outputs": [
    {
     "name": "stdout",
     "output_type": "stream",
     "text": [
      "The probability to win a prize for matching 2 numbers is 13.237802900152577%\n",
      "-----------------\n",
      "The probability to win a prize for matching 3 numbers is 1.7650403866870101%\n",
      "-----------------\n",
      "The probability to win a prize for matching 4 numbers is 0.0968619724401408%\n",
      "-----------------\n",
      "The probability to win a prize for matching 5 numbers is 0.0018449899512407771%\n",
      "-----------------\n"
     ]
    }
   ],
   "source": [
    "l=[2,3,4,5]\n",
    "for i in l:\n",
    "    print('The probability to win a prize for matching {} numbers is {}%'.format(i,probability_less_6(i)))\n",
    "    print('-----------------')"
   ]
  },
  {
   "cell_type": "code",
   "execution_count": null,
   "metadata": {
    "collapsed": true
   },
   "outputs": [],
   "source": []
  }
 ],
 "metadata": {
  "kernelspec": {
   "display_name": "Python 3",
   "language": "python",
   "name": "python3"
  },
  "language_info": {
   "codemirror_mode": {
    "name": "ipython",
    "version": 3
   },
   "file_extension": ".py",
   "mimetype": "text/x-python",
   "name": "python",
   "nbconvert_exporter": "python",
   "pygments_lexer": "ipython3",
   "version": "3.4.3"
  }
 },
 "nbformat": 4,
 "nbformat_minor": 2
}
