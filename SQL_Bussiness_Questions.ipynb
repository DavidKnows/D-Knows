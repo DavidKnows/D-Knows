{
 "cells": [
  {
   "cell_type": "markdown",
   "metadata": {},
   "source": [
    "# Using SQL to Answer Bussiness Questions\n",
    "\n",
    "The database used on this project is called Chinook.db and it contains tables of music sales with all the information about artist.\n",
    "\n",
    "The database can be found [here]().\n",
    "\n",
    "The main purpose of this project is to answer bussiness questions using SQL, so the questions will appear and the process to answer them will be under the question."
   ]
  },
  {
   "cell_type": "code",
   "execution_count": 1,
   "metadata": {
    "collapsed": false
   },
   "outputs": [
    {
     "data": {
      "text/plain": [
       "'Connected: None@chinook.db'"
      ]
     },
     "execution_count": 1,
     "metadata": {},
     "output_type": "execute_result"
    }
   ],
   "source": [
    "%%capture\n",
    "%load_ext sql\n",
    "%sql sqlite:///chinook.db"
   ]
  },
  {
   "cell_type": "code",
   "execution_count": 2,
   "metadata": {
    "collapsed": false
   },
   "outputs": [
    {
     "name": "stdout",
     "output_type": "stream",
     "text": [
      "Done.\n"
     ]
    },
    {
     "data": {
      "text/html": [
       "<table>\n",
       "    <tr>\n",
       "        <th>name</th>\n",
       "        <th>type</th>\n",
       "    </tr>\n",
       "    <tr>\n",
       "        <td>album</td>\n",
       "        <td>table</td>\n",
       "    </tr>\n",
       "    <tr>\n",
       "        <td>artist</td>\n",
       "        <td>table</td>\n",
       "    </tr>\n",
       "    <tr>\n",
       "        <td>customer</td>\n",
       "        <td>table</td>\n",
       "    </tr>\n",
       "    <tr>\n",
       "        <td>employee</td>\n",
       "        <td>table</td>\n",
       "    </tr>\n",
       "    <tr>\n",
       "        <td>genre</td>\n",
       "        <td>table</td>\n",
       "    </tr>\n",
       "    <tr>\n",
       "        <td>invoice</td>\n",
       "        <td>table</td>\n",
       "    </tr>\n",
       "    <tr>\n",
       "        <td>invoice_line</td>\n",
       "        <td>table</td>\n",
       "    </tr>\n",
       "    <tr>\n",
       "        <td>media_type</td>\n",
       "        <td>table</td>\n",
       "    </tr>\n",
       "    <tr>\n",
       "        <td>playlist</td>\n",
       "        <td>table</td>\n",
       "    </tr>\n",
       "    <tr>\n",
       "        <td>playlist_track</td>\n",
       "        <td>table</td>\n",
       "    </tr>\n",
       "    <tr>\n",
       "        <td>track</td>\n",
       "        <td>table</td>\n",
       "    </tr>\n",
       "</table>"
      ],
      "text/plain": [
       "[('album', 'table'),\n",
       " ('artist', 'table'),\n",
       " ('customer', 'table'),\n",
       " ('employee', 'table'),\n",
       " ('genre', 'table'),\n",
       " ('invoice', 'table'),\n",
       " ('invoice_line', 'table'),\n",
       " ('media_type', 'table'),\n",
       " ('playlist', 'table'),\n",
       " ('playlist_track', 'table'),\n",
       " ('track', 'table')]"
      ]
     },
     "execution_count": 2,
     "metadata": {},
     "output_type": "execute_result"
    }
   ],
   "source": [
    "%%sql\n",
    "SELECT\n",
    "    name,\n",
    "    type\n",
    "FROM sqlite_master\n",
    "WHERE type IN (\"table\",\"view\");"
   ]
  },
  {
   "cell_type": "markdown",
   "metadata": {},
   "source": [
    "## Finding the top 3 sales genres in USA"
   ]
  },
  {
   "cell_type": "code",
   "execution_count": 3,
   "metadata": {
    "collapsed": false
   },
   "outputs": [
    {
     "name": "stdout",
     "output_type": "stream",
     "text": [
      "Done.\n"
     ]
    },
    {
     "data": {
      "text/html": [
       "<table>\n",
       "    <tr>\n",
       "        <th>genre_id</th>\n",
       "        <th>name</th>\n",
       "        <th>country</th>\n",
       "        <th>track_sold</th>\n",
       "        <th>tracks_sold_per</th>\n",
       "    </tr>\n",
       "    <tr>\n",
       "        <td>1</td>\n",
       "        <td>Rock</td>\n",
       "        <td>USA</td>\n",
       "        <td>561</td>\n",
       "        <td>53.3777</td>\n",
       "    </tr>\n",
       "    <tr>\n",
       "        <td>4</td>\n",
       "        <td>Alternative &amp; Punk</td>\n",
       "        <td>USA</td>\n",
       "        <td>130</td>\n",
       "        <td>12.3692</td>\n",
       "    </tr>\n",
       "    <tr>\n",
       "        <td>3</td>\n",
       "        <td>Metal</td>\n",
       "        <td>USA</td>\n",
       "        <td>124</td>\n",
       "        <td>11.7983</td>\n",
       "    </tr>\n",
       "    <tr>\n",
       "        <td>14</td>\n",
       "        <td>R&amp;B/Soul</td>\n",
       "        <td>USA</td>\n",
       "        <td>53</td>\n",
       "        <td>5.0428</td>\n",
       "    </tr>\n",
       "    <tr>\n",
       "        <td>6</td>\n",
       "        <td>Blues</td>\n",
       "        <td>USA</td>\n",
       "        <td>36</td>\n",
       "        <td>3.4253</td>\n",
       "    </tr>\n",
       "    <tr>\n",
       "        <td>23</td>\n",
       "        <td>Alternative</td>\n",
       "        <td>USA</td>\n",
       "        <td>35</td>\n",
       "        <td>3.3302</td>\n",
       "    </tr>\n",
       "    <tr>\n",
       "        <td>7</td>\n",
       "        <td>Latin</td>\n",
       "        <td>USA</td>\n",
       "        <td>22</td>\n",
       "        <td>2.0932</td>\n",
       "    </tr>\n",
       "    <tr>\n",
       "        <td>9</td>\n",
       "        <td>Pop</td>\n",
       "        <td>USA</td>\n",
       "        <td>22</td>\n",
       "        <td>2.0932</td>\n",
       "    </tr>\n",
       "    <tr>\n",
       "        <td>17</td>\n",
       "        <td>Hip Hop/Rap</td>\n",
       "        <td>USA</td>\n",
       "        <td>20</td>\n",
       "        <td>1.9029</td>\n",
       "    </tr>\n",
       "    <tr>\n",
       "        <td>2</td>\n",
       "        <td>Jazz</td>\n",
       "        <td>USA</td>\n",
       "        <td>14</td>\n",
       "        <td>1.3321</td>\n",
       "    </tr>\n",
       "    <tr>\n",
       "        <td>12</td>\n",
       "        <td>Easy Listening</td>\n",
       "        <td>USA</td>\n",
       "        <td>13</td>\n",
       "        <td>1.2369</td>\n",
       "    </tr>\n",
       "    <tr>\n",
       "        <td>8</td>\n",
       "        <td>Reggae</td>\n",
       "        <td>USA</td>\n",
       "        <td>6</td>\n",
       "        <td>0.5709</td>\n",
       "    </tr>\n",
       "    <tr>\n",
       "        <td>15</td>\n",
       "        <td>Electronica/Dance</td>\n",
       "        <td>USA</td>\n",
       "        <td>5</td>\n",
       "        <td>0.4757</td>\n",
       "    </tr>\n",
       "    <tr>\n",
       "        <td>24</td>\n",
       "        <td>Classical</td>\n",
       "        <td>USA</td>\n",
       "        <td>4</td>\n",
       "        <td>0.3806</td>\n",
       "    </tr>\n",
       "    <tr>\n",
       "        <td>13</td>\n",
       "        <td>Heavy Metal</td>\n",
       "        <td>USA</td>\n",
       "        <td>3</td>\n",
       "        <td>0.2854</td>\n",
       "    </tr>\n",
       "    <tr>\n",
       "        <td>10</td>\n",
       "        <td>Soundtrack</td>\n",
       "        <td>USA</td>\n",
       "        <td>2</td>\n",
       "        <td>0.1903</td>\n",
       "    </tr>\n",
       "    <tr>\n",
       "        <td>19</td>\n",
       "        <td>TV Shows</td>\n",
       "        <td>USA</td>\n",
       "        <td>1</td>\n",
       "        <td>0.0951</td>\n",
       "    </tr>\n",
       "</table>"
      ],
      "text/plain": [
       "[(1, 'Rock', 'USA', 561, 53.3777),\n",
       " (4, 'Alternative & Punk', 'USA', 130, 12.3692),\n",
       " (3, 'Metal', 'USA', 124, 11.7983),\n",
       " (14, 'R&B/Soul', 'USA', 53, 5.0428),\n",
       " (6, 'Blues', 'USA', 36, 3.4253),\n",
       " (23, 'Alternative', 'USA', 35, 3.3302),\n",
       " (7, 'Latin', 'USA', 22, 2.0932),\n",
       " (9, 'Pop', 'USA', 22, 2.0932),\n",
       " (17, 'Hip Hop/Rap', 'USA', 20, 1.9029),\n",
       " (2, 'Jazz', 'USA', 14, 1.3321),\n",
       " (12, 'Easy Listening', 'USA', 13, 1.2369),\n",
       " (8, 'Reggae', 'USA', 6, 0.5709),\n",
       " (15, 'Electronica/Dance', 'USA', 5, 0.4757),\n",
       " (24, 'Classical', 'USA', 4, 0.3806),\n",
       " (13, 'Heavy Metal', 'USA', 3, 0.2854),\n",
       " (10, 'Soundtrack', 'USA', 2, 0.1903),\n",
       " (19, 'TV Shows', 'USA', 1, 0.0951)]"
      ]
     },
     "execution_count": 3,
     "metadata": {},
     "output_type": "execute_result"
    }
   ],
   "source": [
    "%%sql\n",
    "WITH altra AS (\n",
    "            SELECT ge.*, i.billing_country country\n",
    "            FROM genre ge\n",
    "            LEFT JOIN track tr ON tr.genre_id= ge.genre_id\n",
    "            LEFT JOIN invoice_line il ON il.track_id=tr.track_id\n",
    "            LEFT JOIN invoice i ON i.invoice_id=il.invoice_id),\n",
    "\n",
    "     coun AS (\n",
    "           SELECT *\n",
    "             FROM altra \n",
    "            WHERE country='USA'),\n",
    "    gen AS (\n",
    "            SELECT *, COUNT(name) track_sold\n",
    "            FROM coun\n",
    "            GROUP BY genre_id),\n",
    "    total AS (\n",
    "            SELECT\n",
    "            SUM(track_sold) total\n",
    "            FROM gen)\n",
    "\n",
    "SELECT *, ROUND(CAST(track_sold AS FLOAT)/1051*100,4) tracks_sold_per\n",
    "FROM gen\n",
    "ORDER BY track_sold DESC\n",
    "/*1051*/"
   ]
  },
  {
   "cell_type": "markdown",
   "metadata": {},
   "source": [
    "Poner aqui que es lo que dice lo de arriba y la recomendacion que le haria a los artistas de los albums que voy a subir.\n",
    "\n",
    "### Total dolar amount of sales assigned to each sales support agent"
   ]
  },
  {
   "cell_type": "code",
   "execution_count": 4,
   "metadata": {
    "collapsed": false
   },
   "outputs": [
    {
     "name": "stdout",
     "output_type": "stream",
     "text": [
      "Done.\n"
     ]
    },
    {
     "data": {
      "text/html": [
       "<table>\n",
       "    <tr>\n",
       "        <th>employee_id</th>\n",
       "        <th>Name</th>\n",
       "        <th>sales</th>\n",
       "        <th>hire_date</th>\n",
       "        <th>clients</th>\n",
       "    </tr>\n",
       "    <tr>\n",
       "        <td>3</td>\n",
       "        <td>Jane Peacock</td>\n",
       "        <td>1731.510000000004</td>\n",
       "        <td>2017-04-01 00:00:00</td>\n",
       "        <td>212</td>\n",
       "    </tr>\n",
       "    <tr>\n",
       "        <td>4</td>\n",
       "        <td>Margaret Park</td>\n",
       "        <td>1584.0000000000032</td>\n",
       "        <td>2017-05-03 00:00:00</td>\n",
       "        <td>214</td>\n",
       "    </tr>\n",
       "    <tr>\n",
       "        <td>5</td>\n",
       "        <td>Steve Johnson</td>\n",
       "        <td>1393.9200000000028</td>\n",
       "        <td>2017-10-17 00:00:00</td>\n",
       "        <td>188</td>\n",
       "    </tr>\n",
       "</table>"
      ],
      "text/plain": [
       "[(3, 'Jane Peacock', 1731.510000000004, '2017-04-01 00:00:00', 212),\n",
       " (4, 'Margaret Park', 1584.0000000000032, '2017-05-03 00:00:00', 214),\n",
       " (5, 'Steve Johnson', 1393.9200000000028, '2017-10-17 00:00:00', 188)]"
      ]
     },
     "execution_count": 4,
     "metadata": {},
     "output_type": "execute_result"
    }
   ],
   "source": [
    "%%sql\n",
    "SELECT \n",
    "       em.employee_id,\n",
    "       em.first_name||' '||em.last_name Name,\n",
    "       SUM(i.total) sales,\n",
    "       em.hire_date,\n",
    "        COUNT(cu.customer_id) clients\n",
    "FROM employee em\n",
    "LEFT JOIN customer cu ON cu.support_rep_id=em.employee_id\n",
    "LEFT JOIN invoice i ON i.customer_id=cu.customer_id\n",
    "WHERE em.title='Sales Support Agent'\n",
    "GROUP BY 1\n",
    "ORDER BY 3 DESC;"
   ]
  },
  {
   "cell_type": "markdown",
   "metadata": {},
   "source": [
    "We have a total of 3 people working as a Sales Support agent. The one who has sale the most is Jane Peacock and the less one is Steve Jhonson, but these amount of sales are not inside the same timeframe. \n",
    "\n",
    "Jane Peacock is the Sales Support Manager employee with the most time working in the area with a difference of 5 months against Steve Jhonson, the on quo has less sales, so we can not compare theur sales.\n",
    "\n",
    "We can consider the amount od customers each Sales Agent has in order to see if that could affect each employee. An watching the column `clients`, we can see that inn fact maybe the amount of clients is not giving `Steve Johnson` more sales margin.\n",
    "\n",
    "### Purchases from different countries"
   ]
  },
  {
   "cell_type": "code",
   "execution_count": 5,
   "metadata": {
    "collapsed": false
   },
   "outputs": [
    {
     "name": "stdout",
     "output_type": "stream",
     "text": [
      "Done.\n"
     ]
    },
    {
     "data": {
      "text/html": [
       "<table>\n",
       "    <tr>\n",
       "        <th>Countries</th>\n",
       "        <th>Customers</th>\n",
       "        <th>Sales</th>\n",
       "        <th>AVG_Sales</th>\n",
       "    </tr>\n",
       "    <tr>\n",
       "        <td>USA</td>\n",
       "        <td>13</td>\n",
       "        <td>1040.49</td>\n",
       "        <td>80.04</td>\n",
       "    </tr>\n",
       "    <tr>\n",
       "        <td>Canada</td>\n",
       "        <td>8</td>\n",
       "        <td>535.59</td>\n",
       "        <td>66.95</td>\n",
       "    </tr>\n",
       "    <tr>\n",
       "        <td>Brazil</td>\n",
       "        <td>5</td>\n",
       "        <td>427.68</td>\n",
       "        <td>85.54</td>\n",
       "    </tr>\n",
       "    <tr>\n",
       "        <td>France</td>\n",
       "        <td>5</td>\n",
       "        <td>389.07</td>\n",
       "        <td>77.81</td>\n",
       "    </tr>\n",
       "    <tr>\n",
       "        <td>Germany</td>\n",
       "        <td>4</td>\n",
       "        <td>334.62</td>\n",
       "        <td>83.65</td>\n",
       "    </tr>\n",
       "    <tr>\n",
       "        <td>United Kingdom</td>\n",
       "        <td>3</td>\n",
       "        <td>245.52</td>\n",
       "        <td>81.84</td>\n",
       "    </tr>\n",
       "    <tr>\n",
       "        <td>Czech Republic</td>\n",
       "        <td>2</td>\n",
       "        <td>273.24</td>\n",
       "        <td>136.62</td>\n",
       "    </tr>\n",
       "    <tr>\n",
       "        <td>India</td>\n",
       "        <td>2</td>\n",
       "        <td>183.15</td>\n",
       "        <td>91.57</td>\n",
       "    </tr>\n",
       "    <tr>\n",
       "        <td>Portugal</td>\n",
       "        <td>2</td>\n",
       "        <td>185.13</td>\n",
       "        <td>92.56</td>\n",
       "    </tr>\n",
       "    <tr>\n",
       "        <td>OTHER</td>\n",
       "        <td>15</td>\n",
       "        <td>1094.94</td>\n",
       "        <td>73.0</td>\n",
       "    </tr>\n",
       "</table>"
      ],
      "text/plain": [
       "[('USA', 13, 1040.49, 80.04),\n",
       " ('Canada', 8, 535.59, 66.95),\n",
       " ('Brazil', 5, 427.68, 85.54),\n",
       " ('France', 5, 389.07, 77.81),\n",
       " ('Germany', 4, 334.62, 83.65),\n",
       " ('United Kingdom', 3, 245.52, 81.84),\n",
       " ('Czech Republic', 2, 273.24, 136.62),\n",
       " ('India', 2, 183.15, 91.57),\n",
       " ('Portugal', 2, 185.13, 92.56),\n",
       " ('OTHER', 15, 1094.94, 73.0)]"
      ]
     },
     "execution_count": 5,
     "metadata": {},
     "output_type": "execute_result"
    }
   ],
   "source": [
    "%%sql\n",
    "WITH tabla1 AS (\n",
    "             SELECT country,\n",
    "             COUNT(customer_id) Clients,\n",
    "             CASE \n",
    "                WHEN\n",
    "                    COUNT(customer_id)=1 THEN 'OTHER'\n",
    "                    ELSE country\n",
    "                    END AS Countries\n",
    "            FROM customer   \n",
    "            GROUP BY 1),\n",
    "\n",
    "tabla2 AS (\n",
    "             SELECT Countries, Clients,\n",
    "             CASE\n",
    "                 WHEN \n",
    "                    Countries='OTHER' THEN 1\n",
    "                    ELSE 0\n",
    "                    END AS SORT\n",
    "            FROM tabla1),\n",
    "\n",
    "tabla3 AS (\n",
    "             SELECT c.country, SUM(total) total\n",
    "               FROM customer as c\n",
    "             LEFT JOIN invoice i ON i.customer_id=c.customer_id\n",
    "             GROUP BY 1),\n",
    "    \n",
    "tabla4 AS (\n",
    "            SELECT Countries, Clients, total,\n",
    "            CASE\n",
    "                WHEN \n",
    "                    Countries='OTHER' THEN 1\n",
    "                    ELSE 0\n",
    "                    END AS SORT\n",
    "            FROM tabla1\n",
    "            LEFT JOIN tabla3 ON tabla3.country=tabla1.country\n",
    "    )\n",
    "\n",
    "\n",
    "SELECT Countries, \n",
    "        SUM(Clients) Customers, \n",
    "        ROUND(SUM(total),2) Sales,\n",
    "        ROUND(SUM(total)/SUM(Clients),2) AVG_Sales\n",
    "FROM tabla4\n",
    "GROUP BY Countries\n",
    "ORDER BY SORT ASC, 2 DESC;"
   ]
  },
  {
   "cell_type": "markdown",
   "metadata": {
    "collapsed": true
   },
   "source": [
    "Dar un consejo y falta dividir ventas entre el numero de tickets"
   ]
  },
  {
   "cell_type": "markdown",
   "metadata": {
    "collapsed": true
   },
   "source": [
    "### Albums vs Single tracks"
   ]
  },
  {
   "cell_type": "code",
   "execution_count": 6,
   "metadata": {
    "collapsed": false,
    "scrolled": true
   },
   "outputs": [
    {
     "name": "stdout",
     "output_type": "stream",
     "text": [
      "Done.\n"
     ]
    },
    {
     "data": {
      "text/html": [
       "<table>\n",
       "    <tr>\n",
       "        <th>WHAT</th>\n",
       "        <th>Sales</th>\n",
       "        <th>percentage</th>\n",
       "    </tr>\n",
       "    <tr>\n",
       "        <td>Album</td>\n",
       "        <td>135</td>\n",
       "        <td>21.99%</td>\n",
       "    </tr>\n",
       "    <tr>\n",
       "        <td>Single_Tracks</td>\n",
       "        <td>479</td>\n",
       "        <td>78.01%</td>\n",
       "    </tr>\n",
       "</table>"
      ],
      "text/plain": [
       "[('Album', 135, '21.99%'), ('Single_Tracks', 479, '78.01%')]"
      ]
     },
     "execution_count": 6,
     "metadata": {},
     "output_type": "execute_result"
    }
   ],
   "source": [
    "%%sql\n",
    "\n",
    "WITH albums_tracks AS(\n",
    "                SELECT album.album_id,\n",
    "                COUNT(track_id) Tracks_Album\n",
    "    \n",
    "                FROM album \n",
    "                LEFT JOIN track ON track.album_id=album.album_id\n",
    "                GROUP BY 1),\n",
    "\n",
    "tracks_invoice AS (\n",
    "                SELECT invoice_id, \n",
    "                COUNT(track.track_id) Tracks,\n",
    "                MIN(track.album_id) Album\n",
    "                FROM invoice_line\n",
    "                LEFT JOIN track ON track.track_id=invoice_line.track_id\n",
    "                GROUP BY 1),\n",
    "\n",
    "ita AS (\n",
    "                SELECT *\n",
    "                FROM tracks_invoice\n",
    "                LEFT JOIN albums_tracks ON tracks_invoice.Album=albums_tracks.album_id),\n",
    "\n",
    "t AS (\n",
    "                SELECT *,\n",
    "                    CASE \n",
    "                        WHEN Tracks=Tracks_Album THEN 'Album'\n",
    "                        ELSE 'Single_Tracks'\n",
    "                        END AS WHAT\n",
    "                FROM ita),\n",
    "\n",
    "t2 AS (\n",
    "                SELECT \n",
    "                COUNT(*) Invoices,\n",
    "                                (\n",
    "                                    SELECT COUNT(*) \n",
    "                                    FROM t\n",
    "                                    WHERE WHAT='Album') Albums_purchased,\n",
    "                                (\n",
    "                                    SELECT COUNT(*) \n",
    "                                    FROM t\n",
    "                                    WHERE WHAT='Single_Tracks') Trakcs_Purchased\n",
    "    \n",
    "                FROM t),\n",
    "\n",
    "prueba AS (\n",
    "                SELECT WHAT, \n",
    "                COUNT(invoice_id) Sales\n",
    "                FROM t\n",
    "                GROUP BY WHAT),\n",
    "\n",
    "total AS (\n",
    "                SELECT COUNT(*) Total\n",
    "                FROM t)\n",
    "\n",
    "    \n",
    "/*614*/\n",
    "SELECT *,\n",
    "        ROUND(CAST(Sales AS FLOAT)/614*100,2) || '%' percentage\n",
    "FROm prueba;"
   ]
  },
  {
   "cell_type": "markdown",
   "metadata": {
    "collapsed": true
   },
   "source": [
    "22% of the invoices are from Albums, while 78% from single tracks, I would not recommend to stop buying Albums from the record companies because they represent,approximatly,  one fifth of the revenue. "
   ]
  },
  {
   "cell_type": "markdown",
   "metadata": {},
   "source": [
    "### Which artist is used in the most playlist"
   ]
  },
  {
   "cell_type": "code",
   "execution_count": 7,
   "metadata": {
    "collapsed": false,
    "scrolled": true
   },
   "outputs": [
    {
     "name": "stdout",
     "output_type": "stream",
     "text": [
      "Done.\n"
     ]
    },
    {
     "data": {
      "text/html": [
       "<table>\n",
       "    <tr>\n",
       "        <th>playlist_id</th>\n",
       "        <th>name</th>\n",
       "        <th>MAX(number)</th>\n",
       "    </tr>\n",
       "    <tr>\n",
       "        <td>1</td>\n",
       "        <td>Iron Maiden</td>\n",
       "        <td>213</td>\n",
       "    </tr>\n",
       "    <tr>\n",
       "        <td>3</td>\n",
       "        <td>Lost</td>\n",
       "        <td>92</td>\n",
       "    </tr>\n",
       "    <tr>\n",
       "        <td>5</td>\n",
       "        <td>Iron Maiden</td>\n",
       "        <td>84</td>\n",
       "    </tr>\n",
       "    <tr>\n",
       "        <td>8</td>\n",
       "        <td>Iron Maiden</td>\n",
       "        <td>213</td>\n",
       "    </tr>\n",
       "    <tr>\n",
       "        <td>9</td>\n",
       "        <td>Audioslave</td>\n",
       "        <td>1</td>\n",
       "    </tr>\n",
       "    <tr>\n",
       "        <td>10</td>\n",
       "        <td>Lost</td>\n",
       "        <td>92</td>\n",
       "    </tr>\n",
       "    <tr>\n",
       "        <td>11</td>\n",
       "        <td>Tim Maia</td>\n",
       "        <td>7</td>\n",
       "    </tr>\n",
       "    <tr>\n",
       "        <td>12</td>\n",
       "        <td>Berliner Philharmoniker &amp; Herbert Von Karajan</td>\n",
       "        <td>3</td>\n",
       "    </tr>\n",
       "    <tr>\n",
       "        <td>13</td>\n",
       "        <td>Academy of St. Martin in the Fields, Sir Neville Marriner &amp; Thurston Dart</td>\n",
       "        <td>1</td>\n",
       "    </tr>\n",
       "    <tr>\n",
       "        <td>14</td>\n",
       "        <td>Berliner Philharmoniker &amp; Herbert Von Karajan</td>\n",
       "        <td>2</td>\n",
       "    </tr>\n",
       "    <tr>\n",
       "        <td>15</td>\n",
       "        <td>Aaron Copland &amp; London Symphony Orchestra</td>\n",
       "        <td>1</td>\n",
       "    </tr>\n",
       "    <tr>\n",
       "        <td>16</td>\n",
       "        <td>Nirvana</td>\n",
       "        <td>6</td>\n",
       "    </tr>\n",
       "    <tr>\n",
       "        <td>17</td>\n",
       "        <td>Iron Maiden</td>\n",
       "        <td>6</td>\n",
       "    </tr>\n",
       "    <tr>\n",
       "        <td>18</td>\n",
       "        <td>Miles Davis</td>\n",
       "        <td>1</td>\n",
       "    </tr>\n",
       "</table>"
      ],
      "text/plain": [
       "[(1, 'Iron Maiden', 213),\n",
       " (3, 'Lost', 92),\n",
       " (5, 'Iron Maiden', 84),\n",
       " (8, 'Iron Maiden', 213),\n",
       " (9, 'Audioslave', 1),\n",
       " (10, 'Lost', 92),\n",
       " (11, 'Tim Maia', 7),\n",
       " (12, 'Berliner Philharmoniker & Herbert Von Karajan', 3),\n",
       " (13, 'Academy of St. Martin in the Fields, Sir Neville Marriner & Thurston Dart', 1),\n",
       " (14, 'Berliner Philharmoniker & Herbert Von Karajan', 2),\n",
       " (15, 'Aaron Copland & London Symphony Orchestra', 1),\n",
       " (16, 'Nirvana', 6),\n",
       " (17, 'Iron Maiden', 6),\n",
       " (18, 'Miles Davis', 1)]"
      ]
     },
     "execution_count": 7,
     "metadata": {},
     "output_type": "execute_result"
    }
   ],
   "source": [
    "%%sql\n",
    "WITH tr_al AS (\n",
    "                SELECT ar.artist_id,\n",
    "                        ar.name,\n",
    "                        tr.track_id\n",
    "                FROM artist ar\n",
    "                LEFT JOIN album al ON al.artist_id=ar.artist_id\n",
    "                LEFT JOIN track tr ON tr.album_id=al.album_id),\n",
    "     play AS (\n",
    "                 SELECT playlist_id,\n",
    "                         tr_al.*\n",
    "                         FROM playlist_track pt\n",
    "                        LEFT JOIN tr_al ON tr_al.track_id=pt.track_id),\n",
    "    art AS (\n",
    "                SELECT playlist_id,\n",
    "                        name,\n",
    "                        COUNT(name) number\n",
    "                FROM play\n",
    "                GROUP BY 1,2             \n",
    "    ),\n",
    "    \n",
    "    final AS (\n",
    "                SELECT playlist_id,\n",
    "                        name,\n",
    "                        MAX(number) \n",
    "                FROM art\n",
    "                GROUP BY playlist_id\n",
    "    \n",
    "    )\n",
    " \n",
    "SELECT *\n",
    "FROM final;"
   ]
  },
  {
   "cell_type": "code",
   "execution_count": 8,
   "metadata": {
    "collapsed": false
   },
   "outputs": [
    {
     "name": "stdout",
     "output_type": "stream",
     "text": [
      "Done.\n"
     ]
    },
    {
     "data": {
      "text/html": [
       "<table>\n",
       "    <tr>\n",
       "        <th>playlist_id</th>\n",
       "        <th>artist_id</th>\n",
       "        <th>name</th>\n",
       "        <th>track_id</th>\n",
       "    </tr>\n",
       "    <tr>\n",
       "        <td>18</td>\n",
       "        <td>68</td>\n",
       "        <td>Miles Davis</td>\n",
       "        <td>597</td>\n",
       "    </tr>\n",
       "</table>"
      ],
      "text/plain": [
       "[(18, 68, 'Miles Davis', 597)]"
      ]
     },
     "execution_count": 8,
     "metadata": {},
     "output_type": "execute_result"
    }
   ],
   "source": [
    "%%sql\n",
    "/*Here is the code to check each playlist to be sure everything is ok*/\n",
    "WITH tr_al AS (\n",
    "                SELECT ar.artist_id,\n",
    "                        ar.name,\n",
    "                        tr.track_id\n",
    "                FROM artist ar\n",
    "                LEFT JOIN album al ON al.artist_id=ar.artist_id\n",
    "                LEFT JOIN track tr ON tr.album_id=al.album_id),\n",
    "     play AS (\n",
    "                 SELECT playlist_id,\n",
    "                         tr_al.*\n",
    "                         FROM playlist_track pt\n",
    "                        LEFT JOIN tr_al ON tr_al.track_id=pt.track_id)\n",
    "    \n",
    "SELECT *\n",
    "FROM play\n",
    "WHERE playlist_id IS 18;"
   ]
  },
  {
   "cell_type": "markdown",
   "metadata": {},
   "source": [
    "### How many tracks have been purchased vs not purchased?"
   ]
  },
  {
   "cell_type": "code",
   "execution_count": 29,
   "metadata": {
    "collapsed": false
   },
   "outputs": [
    {
     "name": "stdout",
     "output_type": "stream",
     "text": [
      "Done.\n"
     ]
    },
    {
     "data": {
      "text/html": [
       "<table>\n",
       "    <tr>\n",
       "        <th>Songs</th>\n",
       "        <th>Purchased</th>\n",
       "        <th>No_Purchased</th>\n",
       "    </tr>\n",
       "    <tr>\n",
       "        <td>3503</td>\n",
       "        <td>1806</td>\n",
       "        <td>1697</td>\n",
       "    </tr>\n",
       "</table>"
      ],
      "text/plain": [
       "[(3503, 1806, 1697)]"
      ]
     },
     "execution_count": 29,
     "metadata": {},
     "output_type": "execute_result"
    }
   ],
   "source": [
    "%%sql\n",
    "WITH compradas AS (\n",
    "                    SELECT DISTINCT(track_id)\n",
    "                    FROM invoice_line\n",
    "                    ),\n",
    "canciones AS (\n",
    "                    SELECT track_id\n",
    "                    FROM track\n",
    "                    ),\n",
    "\n",
    "No_compradas AS (\n",
    "                SELECT *\n",
    "                FROM canciones\n",
    "                EXCEPT\n",
    "                SELECT *\n",
    "                FROM compradas\n",
    ")\n",
    "\n",
    "SELECT \n",
    "        COUNT(*) Songs,\n",
    "        ( SELECT COUNT(*) FROM compradas) Purchased,\n",
    "        (SELECT COUNT(*) FROM No_Compradas) No_Purchased\n",
    "FROM canciones"
   ]
  }
 ],
 "metadata": {
  "kernelspec": {
   "display_name": "Python 3",
   "language": "python",
   "name": "python3"
  },
  "language_info": {
   "codemirror_mode": {
    "name": "ipython",
    "version": 3
   },
   "file_extension": ".py",
   "mimetype": "text/x-python",
   "name": "python",
   "nbconvert_exporter": "python",
   "pygments_lexer": "ipython3",
   "version": "3.4.3"
  }
 },
 "nbformat": 4,
 "nbformat_minor": 2
}
