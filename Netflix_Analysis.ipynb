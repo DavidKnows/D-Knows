{
 "cells": [
  {
   "cell_type": "markdown",
   "metadata": {},
   "source": [
    "# A deep Analysis in Netflix DataSet\n",
    "\n",
    "The purpose of this analysis is to discover interesting things about the Series and movies inside the Netflix catalogue.\n",
    "\n",
    "The dataset was downloaded from [here](https://www.kaggle.com/shivamb/netflix-shows)"
   ]
  },
  {
   "cell_type": "code",
   "execution_count": 1,
   "metadata": {},
   "outputs": [],
   "source": [
    "#Import the neccesary libraries\n",
    "import pandas as pd\n",
    "import numpy as np\n",
    "import seaborn as sns\n",
    "import matplotlib.pyplot as plt\n",
    "import zipfile"
   ]
  },
  {
   "cell_type": "code",
   "execution_count": 2,
   "metadata": {},
   "outputs": [],
   "source": [
    "#Read the dataset\n",
    "netflix=pd.read_csv('Net.zip')"
   ]
  },
  {
   "cell_type": "markdown",
   "metadata": {},
   "source": [
    "Once loaded the data, lets know our dataset a little better."
   ]
  },
  {
   "cell_type": "code",
   "execution_count": 3,
   "metadata": {},
   "outputs": [
    {
     "name": "stdout",
     "output_type": "stream",
     "text": [
      "<class 'pandas.core.frame.DataFrame'>\n",
      "RangeIndex: 7787 entries, 0 to 7786\n",
      "Data columns (total 12 columns):\n",
      " #   Column        Non-Null Count  Dtype \n",
      "---  ------        --------------  ----- \n",
      " 0   show_id       7787 non-null   object\n",
      " 1   type          7787 non-null   object\n",
      " 2   title         7787 non-null   object\n",
      " 3   director      5398 non-null   object\n",
      " 4   cast          7069 non-null   object\n",
      " 5   country       7280 non-null   object\n",
      " 6   date_added    7777 non-null   object\n",
      " 7   release_year  7787 non-null   int64 \n",
      " 8   rating        7780 non-null   object\n",
      " 9   duration      7787 non-null   object\n",
      " 10  listed_in     7787 non-null   object\n",
      " 11  description   7787 non-null   object\n",
      "dtypes: int64(1), object(11)\n",
      "memory usage: 730.2+ KB\n"
     ]
    }
   ],
   "source": [
    "netflix.info()"
   ]
  },
  {
   "cell_type": "markdown",
   "metadata": {},
   "source": [
    "We have a total of 7787 entries or videos in our dataset. Taking this as a base we can say that there are columns with missing values. Som with more missing values than other columns.\n",
    "\n",
    "Lets check the percentage of `Nan` Values for each column, if they exist."
   ]
  },
  {
   "cell_type": "code",
   "execution_count": 4,
   "metadata": {},
   "outputs": [
    {
     "name": "stdout",
     "output_type": "stream",
     "text": [
      "director column has 30.68%\n",
      "cast column has 9.22%\n",
      "country column has 6.51%\n",
      "date_added column has 0.13%\n",
      "rating column has 0.09%\n"
     ]
    }
   ],
   "source": [
    "for name in netflix.columns:\n",
    "    na_values=netflix[name].isnull().sum()\n",
    "    if na_values>0:\n",
    "        percentage=round((na_values/7787)*100,2)\n",
    "        print(name + ' column has {}%'.format(percentage))"
   ]
  },
  {
   "cell_type": "markdown",
   "metadata": {},
   "source": [
    "We can see that `director` and `cast` column has a lot of missing values. We can remove due they are not fundamental for our analysis.\n",
    "\n",
    "Country is important, so let's fill the missing values with the most common value inside the column."
   ]
  },
  {
   "cell_type": "code",
   "execution_count": 5,
   "metadata": {},
   "outputs": [
    {
     "data": {
      "text/plain": [
       "United States                    2555\n",
       "India                             923\n",
       "United Kingdom                    397\n",
       "Japan                             226\n",
       "South Korea                       183\n",
       "Canada                            177\n",
       "Spain                             134\n",
       "France                            115\n",
       "Egypt                             101\n",
       "Turkey                            100\n",
       "Mexico                            100\n",
       "Australia                          83\n",
       "Taiwan                             78\n",
       "Brazil                             72\n",
       "Philippines                        71\n",
       "Nigeria                            70\n",
       "Indonesia                          70\n",
       "United Kingdom, United States      64\n",
       "Germany                            61\n",
       "United States, Canada              60\n",
       "Name: country, dtype: int64"
      ]
     },
     "execution_count": 5,
     "metadata": {},
     "output_type": "execute_result"
    }
   ],
   "source": [
    "netflix['country'].value_counts().sort_values(ascending=False).head(20)"
   ]
  },
  {
   "cell_type": "markdown",
   "metadata": {},
   "source": [
    "The most common value is United States, so lets fill Na Values with `United States`"
   ]
  },
  {
   "cell_type": "code",
   "execution_count": 6,
   "metadata": {},
   "outputs": [
    {
     "name": "stdout",
     "output_type": "stream",
     "text": [
      "0\n"
     ]
    }
   ],
   "source": [
    "#Sustitue the na values\n",
    "netflix['country']=netflix['country'].fillna('United States')\n",
    "#Check how many na values are left, 0 should be que answer.\n",
    "print(netflix['country'].isnull().sum())"
   ]
  },
  {
   "cell_type": "markdown",
   "metadata": {},
   "source": [
    "SUCCESS!!\n",
    "\n",
    "As the `date_added` and `rating` column have almost none of missing values, we will repeat this process for every column."
   ]
  },
  {
   "cell_type": "code",
   "execution_count": 7,
   "metadata": {},
   "outputs": [
    {
     "name": "stdout",
     "output_type": "stream",
     "text": [
      "0\n"
     ]
    }
   ],
   "source": [
    "date=netflix['date_added'].value_counts().sort_values(ascending=False).index[0]\n",
    "netflix['date_added']=netflix['date_added'].fillna(date)\n",
    "print(netflix['date_added'].isnull().sum())"
   ]
  },
  {
   "cell_type": "code",
   "execution_count": 8,
   "metadata": {},
   "outputs": [
    {
     "name": "stdout",
     "output_type": "stream",
     "text": [
      "0\n"
     ]
    }
   ],
   "source": [
    "rating=netflix['rating'].value_counts().sort_values(ascending=False).index[0]\n",
    "netflix['rating']=netflix['rating'].fillna(rating)\n",
    "print(netflix['rating'].isnull().sum())"
   ]
  },
  {
   "cell_type": "markdown",
   "metadata": {},
   "source": [
    "Now lets remove the 2 column with the Nan values"
   ]
  },
  {
   "cell_type": "code",
   "execution_count": 9,
   "metadata": {},
   "outputs": [],
   "source": [
    "netflix=netflix.drop(['director','cast'],axis=1)"
   ]
  },
  {
   "cell_type": "code",
   "execution_count": 10,
   "metadata": {},
   "outputs": [
    {
     "name": "stdout",
     "output_type": "stream",
     "text": [
      "<class 'pandas.core.frame.DataFrame'>\n",
      "RangeIndex: 7787 entries, 0 to 7786\n",
      "Data columns (total 10 columns):\n",
      " #   Column        Non-Null Count  Dtype \n",
      "---  ------        --------------  ----- \n",
      " 0   show_id       7787 non-null   object\n",
      " 1   type          7787 non-null   object\n",
      " 2   title         7787 non-null   object\n",
      " 3   country       7787 non-null   object\n",
      " 4   date_added    7787 non-null   object\n",
      " 5   release_year  7787 non-null   int64 \n",
      " 6   rating        7787 non-null   object\n",
      " 7   duration      7787 non-null   object\n",
      " 8   listed_in     7787 non-null   object\n",
      " 9   description   7787 non-null   object\n",
      "dtypes: int64(1), object(9)\n",
      "memory usage: 608.5+ KB\n"
     ]
    }
   ],
   "source": [
    "netflix.info()"
   ]
  },
  {
   "cell_type": "markdown",
   "metadata": {},
   "source": [
    "Now we can start working\n",
    "\n",
    "We haven't seen the dataset yet, lets check how the values are stored:"
   ]
  },
  {
   "cell_type": "code",
   "execution_count": 11,
   "metadata": {},
   "outputs": [
    {
     "data": {
      "text/html": [
       "<div>\n",
       "<style scoped>\n",
       "    .dataframe tbody tr th:only-of-type {\n",
       "        vertical-align: middle;\n",
       "    }\n",
       "\n",
       "    .dataframe tbody tr th {\n",
       "        vertical-align: top;\n",
       "    }\n",
       "\n",
       "    .dataframe thead th {\n",
       "        text-align: right;\n",
       "    }\n",
       "</style>\n",
       "<table border=\"1\" class=\"dataframe\">\n",
       "  <thead>\n",
       "    <tr style=\"text-align: right;\">\n",
       "      <th></th>\n",
       "      <th>show_id</th>\n",
       "      <th>type</th>\n",
       "      <th>title</th>\n",
       "      <th>country</th>\n",
       "      <th>date_added</th>\n",
       "      <th>release_year</th>\n",
       "      <th>rating</th>\n",
       "      <th>duration</th>\n",
       "      <th>listed_in</th>\n",
       "      <th>description</th>\n",
       "    </tr>\n",
       "  </thead>\n",
       "  <tbody>\n",
       "    <tr>\n",
       "      <th>0</th>\n",
       "      <td>s1</td>\n",
       "      <td>TV Show</td>\n",
       "      <td>3%</td>\n",
       "      <td>Brazil</td>\n",
       "      <td>August 14, 2020</td>\n",
       "      <td>2020</td>\n",
       "      <td>TV-MA</td>\n",
       "      <td>4 Seasons</td>\n",
       "      <td>International TV Shows, TV Dramas, TV Sci-Fi &amp;...</td>\n",
       "      <td>In a future where the elite inhabit an island ...</td>\n",
       "    </tr>\n",
       "    <tr>\n",
       "      <th>1</th>\n",
       "      <td>s2</td>\n",
       "      <td>Movie</td>\n",
       "      <td>7:19</td>\n",
       "      <td>Mexico</td>\n",
       "      <td>December 23, 2016</td>\n",
       "      <td>2016</td>\n",
       "      <td>TV-MA</td>\n",
       "      <td>93 min</td>\n",
       "      <td>Dramas, International Movies</td>\n",
       "      <td>After a devastating earthquake hits Mexico Cit...</td>\n",
       "    </tr>\n",
       "    <tr>\n",
       "      <th>2</th>\n",
       "      <td>s3</td>\n",
       "      <td>Movie</td>\n",
       "      <td>23:59</td>\n",
       "      <td>Singapore</td>\n",
       "      <td>December 20, 2018</td>\n",
       "      <td>2011</td>\n",
       "      <td>R</td>\n",
       "      <td>78 min</td>\n",
       "      <td>Horror Movies, International Movies</td>\n",
       "      <td>When an army recruit is found dead, his fellow...</td>\n",
       "    </tr>\n",
       "    <tr>\n",
       "      <th>3</th>\n",
       "      <td>s4</td>\n",
       "      <td>Movie</td>\n",
       "      <td>9</td>\n",
       "      <td>United States</td>\n",
       "      <td>November 16, 2017</td>\n",
       "      <td>2009</td>\n",
       "      <td>PG-13</td>\n",
       "      <td>80 min</td>\n",
       "      <td>Action &amp; Adventure, Independent Movies, Sci-Fi...</td>\n",
       "      <td>In a postapocalyptic world, rag-doll robots hi...</td>\n",
       "    </tr>\n",
       "    <tr>\n",
       "      <th>4</th>\n",
       "      <td>s5</td>\n",
       "      <td>Movie</td>\n",
       "      <td>21</td>\n",
       "      <td>United States</td>\n",
       "      <td>January 1, 2020</td>\n",
       "      <td>2008</td>\n",
       "      <td>PG-13</td>\n",
       "      <td>123 min</td>\n",
       "      <td>Dramas</td>\n",
       "      <td>A brilliant group of students become card-coun...</td>\n",
       "    </tr>\n",
       "  </tbody>\n",
       "</table>\n",
       "</div>"
      ],
      "text/plain": [
       "  show_id     type  title        country         date_added  release_year  \\\n",
       "0      s1  TV Show     3%         Brazil    August 14, 2020          2020   \n",
       "1      s2    Movie   7:19         Mexico  December 23, 2016          2016   \n",
       "2      s3    Movie  23:59      Singapore  December 20, 2018          2011   \n",
       "3      s4    Movie      9  United States  November 16, 2017          2009   \n",
       "4      s5    Movie     21  United States    January 1, 2020          2008   \n",
       "\n",
       "  rating   duration                                          listed_in  \\\n",
       "0  TV-MA  4 Seasons  International TV Shows, TV Dramas, TV Sci-Fi &...   \n",
       "1  TV-MA     93 min                       Dramas, International Movies   \n",
       "2      R     78 min                Horror Movies, International Movies   \n",
       "3  PG-13     80 min  Action & Adventure, Independent Movies, Sci-Fi...   \n",
       "4  PG-13    123 min                                             Dramas   \n",
       "\n",
       "                                         description  \n",
       "0  In a future where the elite inhabit an island ...  \n",
       "1  After a devastating earthquake hits Mexico Cit...  \n",
       "2  When an army recruit is found dead, his fellow...  \n",
       "3  In a postapocalyptic world, rag-doll robots hi...  \n",
       "4  A brilliant group of students become card-coun...  "
      ]
     },
     "execution_count": 11,
     "metadata": {},
     "output_type": "execute_result"
    }
   ],
   "source": [
    "netflix.head()"
   ]
  },
  {
   "cell_type": "markdown",
   "metadata": {},
   "source": [
    "## Data Cleaning"
   ]
  },
  {
   "cell_type": "markdown",
   "metadata": {},
   "source": [
    "We can do some cleaning to make a better analysis, the things that we can do are:\n",
    "\n",
    "- Just keep the year in `date_added` colum.\n",
    "- The `duration` column contains two types of data, minutes if it is a movie, or Season if it is a Tv Show, we can separate these toew values into separate columns.\n",
    "- In `listed_in` column says the category on which the TV Series o Movie is, but there are a lor of categories, we can try and leave a range of categories.\n",
    "\n",
    "Let's start with the first one:"
   ]
  },
  {
   "cell_type": "markdown",
   "metadata": {},
   "source": [
    "## Get the year from date_added column"
   ]
  },
  {
   "cell_type": "code",
   "execution_count": 12,
   "metadata": {},
   "outputs": [],
   "source": [
    "#Convert to date type and then extract the year\n",
    "netflix['date_added']=pd.to_datetime(netflix['date_added']).dt.year"
   ]
  },
  {
   "cell_type": "markdown",
   "metadata": {},
   "source": [
    "## Cleaning the Duration column\n",
    "Lets proceed with separating the duration for each category:"
   ]
  },
  {
   "cell_type": "code",
   "execution_count": 13,
   "metadata": {},
   "outputs": [
    {
     "data": {
      "text/plain": [
       "1 Season     1608\n",
       "2 Seasons     382\n",
       "3 Seasons     184\n",
       "90 min        136\n",
       "93 min        131\n",
       "Name: duration, dtype: int64"
      ]
     },
     "execution_count": 13,
     "metadata": {},
     "output_type": "execute_result"
    }
   ],
   "source": [
    "netflix['duration'].value_counts().head()"
   ]
  },
  {
   "cell_type": "markdown",
   "metadata": {},
   "source": [
    "There are only two ways a duration is stored, by Tv Show or by Movie.\n",
    "\n",
    "The duration of a TV Show contains a number and then the word `Season`, and the movies contain the a number and the word `min`, let's use this to separate each value into different columns."
   ]
  },
  {
   "cell_type": "code",
   "execution_count": 14,
   "metadata": {},
   "outputs": [],
   "source": [
    "#Create a new column for each duration leaving only the numbers\n",
    "\n",
    "#New column--------#Filter using boolean mask---------------------------------------#Take out strings-----------#Change type      \n",
    "netflix['du_shows']=netflix.loc[netflix['duration'].str.contains('Season'),'duration'].str.replace(r'[A-Za-z]','').astype(float)\n",
    "netflix['du_movies']=netflix.loc[netflix['duration'].str.contains('min'),'duration'].str.replace(r'[A-Za-z]','').astype(float)"
   ]
  },
  {
   "cell_type": "markdown",
   "metadata": {},
   "source": [
    "## Cleaning the listed_in colum"
   ]
  },
  {
   "cell_type": "markdown",
   "metadata": {},
   "source": [
    "Finally lets make some cleaning in the `listed_in` column"
   ]
  },
  {
   "cell_type": "code",
   "execution_count": 15,
   "metadata": {},
   "outputs": [
    {
     "data": {
      "text/plain": [
       "Documentaries                                        334\n",
       "Stand-Up Comedy                                      321\n",
       "Dramas, International Movies                         320\n",
       "Comedies, Dramas, International Movies               243\n",
       "Dramas, Independent Movies, International Movies     215\n",
       "Kids' TV                                             205\n",
       "Children & Family Movies                             177\n",
       "Documentaries, International Movies                  172\n",
       "Children & Family Movies, Comedies                   169\n",
       "Comedies, International Movies                       161\n",
       "Dramas, International Movies, Romantic Movies        153\n",
       "Comedies, International Movies, Romantic Movies      139\n",
       "Action & Adventure, Dramas, International Movies     117\n",
       "Dramas                                               117\n",
       "International TV Shows, TV Dramas                    111\n",
       "Dramas, International Movies, Thrillers              109\n",
       "Crime TV Shows, International TV Shows, TV Dramas    106\n",
       "Comedies, Dramas, Independent Movies                 101\n",
       "Action & Adventure                                    99\n",
       "Comedies                                              97\n",
       "Name: listed_in, dtype: int64"
      ]
     },
     "execution_count": 15,
     "metadata": {},
     "output_type": "execute_result"
    }
   ],
   "source": [
    "netflix['listed_in'].value_counts().head(20)"
   ]
  },
  {
   "cell_type": "markdown",
   "metadata": {},
   "source": [
    "Reading the categories, there are some words that could interfere in a good extraction, so lets remove them."
   ]
  },
  {
   "cell_type": "code",
   "execution_count": 16,
   "metadata": {},
   "outputs": [],
   "source": [
    "netflix['listed_in']=netflix['listed_in'].str.replace('International','').str.replace(\",\",'').str.replace('TV','').str.replace('Shows','').str.strip()\n",
    "netflix['listed_in']=netflix['listed_in'].str.replace('British','').str.replace('Spanish','').str.replace('Language','').str.replace('Classic','')\n",
    "netflix['listed_in']=netflix['listed_in'].str.replace('Movies','').str.replace('Cult','')"
   ]
  },
  {
   "cell_type": "markdown",
   "metadata": {},
   "source": [
    "Lets now see how many unique values this column has:"
   ]
  },
  {
   "cell_type": "code",
   "execution_count": 17,
   "metadata": {},
   "outputs": [
    {
     "data": {
      "text/plain": [
       "(443,)"
      ]
     },
     "execution_count": 17,
     "metadata": {},
     "output_type": "execute_result"
    }
   ],
   "source": [
    "netflix['listed_in'].unique().shape"
   ]
  },
  {
   "cell_type": "markdown",
   "metadata": {},
   "source": [
    "Judging the amount of unique values there are, to know how every categorie is sotores and their differences is gonna be a very overwealming job that with a mor understanding of the dataset could be possible, but this project has not that scope, so the realistic way to get at leats one categorie per Movie/Serie is going to be to exctract the first word of for every Movie/Serie inside the `listed_in` column which may represent the main topic of the Movio/Serie.\n",
    "\n",
    "So lets do this, lets first see how the categories will be extracting the first word:"
   ]
  },
  {
   "cell_type": "code",
   "execution_count": 18,
   "metadata": {},
   "outputs": [
    {
     "name": "stdout",
     "output_type": "stream",
     "text": [
      "Dramas           1707\n",
      "Comedies         1314\n",
      "Action            801\n",
      "Documentaries     764\n",
      "Children          502\n",
      "Crime             414\n",
      "Kids              389\n",
      "Stand             367\n",
      "Horror            279\n",
      "Docuseries        262\n",
      "Romantic          253\n",
      "Reality           188\n",
      "Anime             167\n",
      "Thrillers         109\n",
      "Korean            107\n",
      "Music              33\n",
      "Sci                26\n",
      "Independent        22\n",
      "LGBTQ               4\n",
      "Mysteries           2\n",
      "Sports              2\n",
      "dtype: int64\n",
      "7712\n"
     ]
    }
   ],
   "source": [
    "test_1=netflix['listed_in']\n",
    "test_1=test_1.str.extract(r'\\b(\\w+)\\b')\n",
    "print(test_1.value_counts())\n",
    "print(test_1.value_counts().sum())"
   ]
  },
  {
   "cell_type": "markdown",
   "metadata": {},
   "source": [
    "The output look good, from 461 unique values to 23 is a very good step. Also lets notice that we were form 7787 values to 7714, we lost 73 values due the last cleaning, but the word removed really did not say anithing about a categorie, so they removal is not significant.\n",
    "\n",
    "Some categories need a second categorie in order to know more about the Movie/Series, such is the case like Drama, we may have `Drama-Comedies`, `Drama-Crime`, `Drama-Action`, etc. If we were to have a full list of different and exact categories we may need to know how exactly were stored these values in the dataset. We previously said that this is not the scope of this project, having a `Drama` categorie may be too general if we want to give the most aquarancy we can.\n",
    "\n",
    "So lets do another test of what it we remove `Drama` from the categories in order to hace the second Categorie:"
   ]
  },
  {
   "cell_type": "code",
   "execution_count": 19,
   "metadata": {},
   "outputs": [
    {
     "name": "stdout",
     "output_type": "stream",
     "text": [
      "Comedies         1314\n",
      "Action            801\n",
      "Documentaries     764\n",
      "Children          502\n",
      "Romantic          455\n",
      "Independent       420\n",
      "Crime             414\n",
      "Kids              389\n",
      "Stand             367\n",
      "Thrillers         304\n",
      "Horror            303\n",
      "Docuseries        262\n",
      "Reality           188\n",
      "Anime             167\n",
      "Korean            107\n",
      "Music              97\n",
      "Sci                64\n",
      "Sports             46\n",
      "Mysteries          31\n",
      "Faith              29\n",
      "LGBTQ              25\n",
      "Teen               17\n",
      "dtype: int64\n",
      "7066\n"
     ]
    }
   ],
   "source": [
    "test_2=netflix['listed_in']\n",
    "test_2=test_2.str.replace('Dramas','')\n",
    "test_2=test_2.str.extract(r'\\b(\\w+)\\b')\n",
    "print(test_2.value_counts())\n",
    "print(test_2.value_counts().sum())"
   ]
  },
  {
   "cell_type": "markdown",
   "metadata": {},
   "source": [
    "We can see now that the remain data is 7022, that is a loss of 615 more values having a total of 688 lost values.\n",
    "\n",
    "LEts now see what we have gained. We can see that the categories having very low amount of movies, now they increased in number, and adding new categorie called `Teen`. \n",
    "\n",
    "It may be a huge loss of information, but if we remove the word `Drama` and then it was deleted all tyoe of information, that means that those Movies/Series were stores only with the categorie `Drama` So we can fill those missing values with it and don not have such a loss.\n",
    "\n",
    "You may ask, but what about the first 73 values that were deleted since the beginninig, will you fill those values with `Drama`?\n",
    "\n",
    "Well those Movies/Series did not have a good categorie since the beggining, and they represent less that 1% of the data, and how `Drama` was the most common value...then yes.\n",
    "\n",
    "So at the end we distribute more than 1000 values from the `Drama` categorie into a more accurate one and leave the purest `Drama` category into the Movie/Series that deserve it.\n",
    "\n",
    "Now lets put all of that together inside our DataFrame"
   ]
  },
  {
   "cell_type": "code",
   "execution_count": 20,
   "metadata": {},
   "outputs": [
    {
     "name": "stdout",
     "output_type": "stream",
     "text": [
      "Comedies         1314\n",
      "Action            801\n",
      "Documentaries     764\n",
      "Drama             721\n",
      "Children          502\n",
      "Romantic          455\n",
      "Independent       420\n",
      "Crime             414\n",
      "Kids              389\n",
      "Stand             367\n",
      "Thrillers         304\n",
      "Horror            303\n",
      "Docuseries        262\n",
      "Reality           188\n",
      "Anime             167\n",
      "Korean            107\n",
      "Music              97\n",
      "Sci                64\n",
      "Sports             46\n",
      "Mysteries          31\n",
      "Faith              29\n",
      "LGBTQ              25\n",
      "Teen               17\n",
      "Name: listed_in, dtype: int64\n"
     ]
    }
   ],
   "source": [
    "netflix['listed_in']=netflix['listed_in'].str.replace('Dramas','')\n",
    "netflix['listed_in']=netflix['listed_in'].str.extract(r'\\b(\\w+)\\b')\n",
    "netflix['listed_in']=netflix['listed_in'].fillna('Drama')\n",
    "print(netflix['listed_in'].value_counts())"
   ]
  },
  {
   "cell_type": "markdown",
   "metadata": {},
   "source": [
    "Lets take a look into aur DataSet:"
   ]
  },
  {
   "cell_type": "code",
   "execution_count": 21,
   "metadata": {},
   "outputs": [
    {
     "data": {
      "text/html": [
       "<div>\n",
       "<style scoped>\n",
       "    .dataframe tbody tr th:only-of-type {\n",
       "        vertical-align: middle;\n",
       "    }\n",
       "\n",
       "    .dataframe tbody tr th {\n",
       "        vertical-align: top;\n",
       "    }\n",
       "\n",
       "    .dataframe thead th {\n",
       "        text-align: right;\n",
       "    }\n",
       "</style>\n",
       "<table border=\"1\" class=\"dataframe\">\n",
       "  <thead>\n",
       "    <tr style=\"text-align: right;\">\n",
       "      <th></th>\n",
       "      <th>show_id</th>\n",
       "      <th>type</th>\n",
       "      <th>title</th>\n",
       "      <th>country</th>\n",
       "      <th>date_added</th>\n",
       "      <th>release_year</th>\n",
       "      <th>rating</th>\n",
       "      <th>duration</th>\n",
       "      <th>listed_in</th>\n",
       "      <th>description</th>\n",
       "      <th>du_shows</th>\n",
       "      <th>du_movies</th>\n",
       "    </tr>\n",
       "  </thead>\n",
       "  <tbody>\n",
       "    <tr>\n",
       "      <th>0</th>\n",
       "      <td>s1</td>\n",
       "      <td>TV Show</td>\n",
       "      <td>3%</td>\n",
       "      <td>Brazil</td>\n",
       "      <td>2020</td>\n",
       "      <td>2020</td>\n",
       "      <td>TV-MA</td>\n",
       "      <td>4 Seasons</td>\n",
       "      <td>Sci</td>\n",
       "      <td>In a future where the elite inhabit an island ...</td>\n",
       "      <td>4.0</td>\n",
       "      <td>NaN</td>\n",
       "    </tr>\n",
       "    <tr>\n",
       "      <th>1</th>\n",
       "      <td>s2</td>\n",
       "      <td>Movie</td>\n",
       "      <td>7:19</td>\n",
       "      <td>Mexico</td>\n",
       "      <td>2016</td>\n",
       "      <td>2016</td>\n",
       "      <td>TV-MA</td>\n",
       "      <td>93 min</td>\n",
       "      <td>Drama</td>\n",
       "      <td>After a devastating earthquake hits Mexico Cit...</td>\n",
       "      <td>NaN</td>\n",
       "      <td>93.0</td>\n",
       "    </tr>\n",
       "    <tr>\n",
       "      <th>2</th>\n",
       "      <td>s3</td>\n",
       "      <td>Movie</td>\n",
       "      <td>23:59</td>\n",
       "      <td>Singapore</td>\n",
       "      <td>2018</td>\n",
       "      <td>2011</td>\n",
       "      <td>R</td>\n",
       "      <td>78 min</td>\n",
       "      <td>Horror</td>\n",
       "      <td>When an army recruit is found dead, his fellow...</td>\n",
       "      <td>NaN</td>\n",
       "      <td>78.0</td>\n",
       "    </tr>\n",
       "    <tr>\n",
       "      <th>3</th>\n",
       "      <td>s4</td>\n",
       "      <td>Movie</td>\n",
       "      <td>9</td>\n",
       "      <td>United States</td>\n",
       "      <td>2017</td>\n",
       "      <td>2009</td>\n",
       "      <td>PG-13</td>\n",
       "      <td>80 min</td>\n",
       "      <td>Action</td>\n",
       "      <td>In a postapocalyptic world, rag-doll robots hi...</td>\n",
       "      <td>NaN</td>\n",
       "      <td>80.0</td>\n",
       "    </tr>\n",
       "    <tr>\n",
       "      <th>4</th>\n",
       "      <td>s5</td>\n",
       "      <td>Movie</td>\n",
       "      <td>21</td>\n",
       "      <td>United States</td>\n",
       "      <td>2020</td>\n",
       "      <td>2008</td>\n",
       "      <td>PG-13</td>\n",
       "      <td>123 min</td>\n",
       "      <td>Drama</td>\n",
       "      <td>A brilliant group of students become card-coun...</td>\n",
       "      <td>NaN</td>\n",
       "      <td>123.0</td>\n",
       "    </tr>\n",
       "  </tbody>\n",
       "</table>\n",
       "</div>"
      ],
      "text/plain": [
       "  show_id     type  title        country  date_added  release_year rating  \\\n",
       "0      s1  TV Show     3%         Brazil        2020          2020  TV-MA   \n",
       "1      s2    Movie   7:19         Mexico        2016          2016  TV-MA   \n",
       "2      s3    Movie  23:59      Singapore        2018          2011      R   \n",
       "3      s4    Movie      9  United States        2017          2009  PG-13   \n",
       "4      s5    Movie     21  United States        2020          2008  PG-13   \n",
       "\n",
       "    duration listed_in                                        description  \\\n",
       "0  4 Seasons       Sci  In a future where the elite inhabit an island ...   \n",
       "1     93 min     Drama  After a devastating earthquake hits Mexico Cit...   \n",
       "2     78 min    Horror  When an army recruit is found dead, his fellow...   \n",
       "3     80 min    Action  In a postapocalyptic world, rag-doll robots hi...   \n",
       "4    123 min     Drama  A brilliant group of students become card-coun...   \n",
       "\n",
       "   du_shows  du_movies  \n",
       "0       4.0        NaN  \n",
       "1       NaN       93.0  \n",
       "2       NaN       78.0  \n",
       "3       NaN       80.0  \n",
       "4       NaN      123.0  "
      ]
     },
     "execution_count": 21,
     "metadata": {},
     "output_type": "execute_result"
    }
   ],
   "source": [
    "netflix.head()"
   ]
  },
  {
   "cell_type": "code",
   "execution_count": 22,
   "metadata": {},
   "outputs": [],
   "source": [
    "netflix.iloc[1089,5]=2008"
   ]
  },
  {
   "cell_type": "markdown",
   "metadata": {},
   "source": [
    "We are now ready to analyze!!\n",
    "## Analysis"
   ]
  },
  {
   "cell_type": "code",
   "execution_count": 23,
   "metadata": {
    "scrolled": true
   },
   "outputs": [
    {
     "name": "stdout",
     "output_type": "stream",
     "text": [
      "Movie      5377\n",
      "TV Show    2410\n",
      "Name: type, dtype: int64\n",
      "7787\n"
     ]
    }
   ],
   "source": [
    "print(netflix['type'].value_counts())\n",
    "print(netflix.shape[0])\n"
   ]
  },
  {
   "cell_type": "markdown",
   "metadata": {},
   "source": [
    "From Netflix we only have 2 categories according the dataset:\n",
    "\n",
    "- Movies\n",
    "- TV Shows or Serie\n",
    "\n",
    "We have a total of 7,787 thing to watch, and from that amount the 75% are movies and 25% are Series."
   ]
  },
  {
   "cell_type": "code",
   "execution_count": 24,
   "metadata": {},
   "outputs": [
    {
     "data": {
      "text/plain": [
       "Comedies         1314\n",
       "Action            801\n",
       "Documentaries     764\n",
       "Drama             721\n",
       "Children          502\n",
       "Romantic          455\n",
       "Independent       420\n",
       "Crime             414\n",
       "Name: listed_in, dtype: int64"
      ]
     },
     "execution_count": 24,
     "metadata": {},
     "output_type": "execute_result"
    }
   ],
   "source": [
    "netflix['listed_in'].value_counts().sort_values(ascending=False).head(8)"
   ]
  },
  {
   "cell_type": "markdown",
   "metadata": {},
   "source": [
    "The most common thing we can find in netflix are Comedies, Action and Documentaries for both types: TV Shows and Series.\n",
    "\n",
    "Lets separate the DataSet in by the Type:"
   ]
  },
  {
   "cell_type": "code",
   "execution_count": 25,
   "metadata": {},
   "outputs": [],
   "source": [
    "Shows=netflix[netflix['type']=='TV Show']\n",
    "Movies=netflix[netflix['type']=='Movie']"
   ]
  },
  {
   "cell_type": "markdown",
   "metadata": {},
   "source": [
    "## Series\n",
    "Let's see how many Seasons the TV Series have:"
   ]
  },
  {
   "cell_type": "code",
   "execution_count": 26,
   "metadata": {},
   "outputs": [
    {
     "data": {
      "text/plain": [
       "1.0     1608\n",
       "2.0      382\n",
       "3.0      184\n",
       "4.0       87\n",
       "5.0       58\n",
       "6.0       30\n",
       "7.0       19\n",
       "8.0       18\n",
       "9.0        8\n",
       "10.0       6\n",
       "11.0       3\n",
       "15.0       2\n",
       "12.0       2\n",
       "13.0       2\n",
       "16.0       1\n",
       "Name: du_shows, dtype: int64"
      ]
     },
     "execution_count": 26,
     "metadata": {},
     "output_type": "execute_result"
    }
   ],
   "source": [
    "Shows['du_shows'].value_counts()"
   ]
  },
  {
   "cell_type": "markdown",
   "metadata": {},
   "source": [
    "Most of the Series that are in Netflix have between 1 to 3 season, but there a few more that are around 4 to 8 seasons, and unimmaginable there are Series that have more than 8 'til 16 seasons."
   ]
  },
  {
   "cell_type": "code",
   "execution_count": 27,
   "metadata": {},
   "outputs": [
    {
     "data": {
      "text/html": [
       "<div>\n",
       "<style scoped>\n",
       "    .dataframe tbody tr th:only-of-type {\n",
       "        vertical-align: middle;\n",
       "    }\n",
       "\n",
       "    .dataframe tbody tr th {\n",
       "        vertical-align: top;\n",
       "    }\n",
       "\n",
       "    .dataframe thead th {\n",
       "        text-align: right;\n",
       "    }\n",
       "</style>\n",
       "<table border=\"1\" class=\"dataframe\">\n",
       "  <thead>\n",
       "    <tr style=\"text-align: right;\">\n",
       "      <th></th>\n",
       "      <th>date_added</th>\n",
       "      <th>release_year</th>\n",
       "      <th>du_shows</th>\n",
       "      <th>du_movies</th>\n",
       "    </tr>\n",
       "    <tr>\n",
       "      <th>listed_in</th>\n",
       "      <th></th>\n",
       "      <th></th>\n",
       "      <th></th>\n",
       "      <th></th>\n",
       "    </tr>\n",
       "  </thead>\n",
       "  <tbody>\n",
       "    <tr>\n",
       "      <th>Action</th>\n",
       "      <td>2018.825000</td>\n",
       "      <td>2016.262500</td>\n",
       "      <td>2.700000</td>\n",
       "      <td>NaN</td>\n",
       "    </tr>\n",
       "    <tr>\n",
       "      <th>Comedies</th>\n",
       "      <td>2018.582222</td>\n",
       "      <td>2015.795556</td>\n",
       "      <td>2.622222</td>\n",
       "      <td>NaN</td>\n",
       "    </tr>\n",
       "    <tr>\n",
       "      <th>Teen</th>\n",
       "      <td>2018.647059</td>\n",
       "      <td>2017.058824</td>\n",
       "      <td>2.352941</td>\n",
       "      <td>NaN</td>\n",
       "    </tr>\n",
       "    <tr>\n",
       "      <th>Sci</th>\n",
       "      <td>2019.000000</td>\n",
       "      <td>2014.470588</td>\n",
       "      <td>2.117647</td>\n",
       "      <td>NaN</td>\n",
       "    </tr>\n",
       "    <tr>\n",
       "      <th>Kids</th>\n",
       "      <td>2018.516710</td>\n",
       "      <td>2015.678663</td>\n",
       "      <td>1.969152</td>\n",
       "      <td>NaN</td>\n",
       "    </tr>\n",
       "    <tr>\n",
       "      <th>Stand</th>\n",
       "      <td>2018.108696</td>\n",
       "      <td>2017.630435</td>\n",
       "      <td>1.869565</td>\n",
       "      <td>NaN</td>\n",
       "    </tr>\n",
       "    <tr>\n",
       "      <th>Horror</th>\n",
       "      <td>2018.617021</td>\n",
       "      <td>2017.680851</td>\n",
       "      <td>1.829787</td>\n",
       "      <td>NaN</td>\n",
       "    </tr>\n",
       "    <tr>\n",
       "      <th>Crime</th>\n",
       "      <td>2018.548309</td>\n",
       "      <td>2017.405797</td>\n",
       "      <td>1.760870</td>\n",
       "      <td>NaN</td>\n",
       "    </tr>\n",
       "    <tr>\n",
       "      <th>Thrillers</th>\n",
       "      <td>2018.071429</td>\n",
       "      <td>2017.642857</td>\n",
       "      <td>1.642857</td>\n",
       "      <td>NaN</td>\n",
       "    </tr>\n",
       "    <tr>\n",
       "      <th>Mysteries</th>\n",
       "      <td>2018.580645</td>\n",
       "      <td>2018.096774</td>\n",
       "      <td>1.612903</td>\n",
       "      <td>NaN</td>\n",
       "    </tr>\n",
       "    <tr>\n",
       "      <th>Anime</th>\n",
       "      <td>2018.817568</td>\n",
       "      <td>2014.229730</td>\n",
       "      <td>1.608108</td>\n",
       "      <td>NaN</td>\n",
       "    </tr>\n",
       "    <tr>\n",
       "      <th>Drama</th>\n",
       "      <td>2018.340206</td>\n",
       "      <td>2014.567010</td>\n",
       "      <td>1.597938</td>\n",
       "      <td>NaN</td>\n",
       "    </tr>\n",
       "    <tr>\n",
       "      <th>Romantic</th>\n",
       "      <td>2018.151515</td>\n",
       "      <td>2015.541126</td>\n",
       "      <td>1.545455</td>\n",
       "      <td>NaN</td>\n",
       "    </tr>\n",
       "    <tr>\n",
       "      <th>Reality</th>\n",
       "      <td>2019.106383</td>\n",
       "      <td>2017.521277</td>\n",
       "      <td>1.531915</td>\n",
       "      <td>NaN</td>\n",
       "    </tr>\n",
       "    <tr>\n",
       "      <th>Docuseries</th>\n",
       "      <td>2018.408397</td>\n",
       "      <td>2016.500000</td>\n",
       "      <td>1.320611</td>\n",
       "      <td>NaN</td>\n",
       "    </tr>\n",
       "    <tr>\n",
       "      <th>Korean</th>\n",
       "      <td>2018.317757</td>\n",
       "      <td>2016.186916</td>\n",
       "      <td>1.112150</td>\n",
       "      <td>NaN</td>\n",
       "    </tr>\n",
       "  </tbody>\n",
       "</table>\n",
       "</div>"
      ],
      "text/plain": [
       "             date_added  release_year  du_shows  du_movies\n",
       "listed_in                                                 \n",
       "Action      2018.825000   2016.262500  2.700000        NaN\n",
       "Comedies    2018.582222   2015.795556  2.622222        NaN\n",
       "Teen        2018.647059   2017.058824  2.352941        NaN\n",
       "Sci         2019.000000   2014.470588  2.117647        NaN\n",
       "Kids        2018.516710   2015.678663  1.969152        NaN\n",
       "Stand       2018.108696   2017.630435  1.869565        NaN\n",
       "Horror      2018.617021   2017.680851  1.829787        NaN\n",
       "Crime       2018.548309   2017.405797  1.760870        NaN\n",
       "Thrillers   2018.071429   2017.642857  1.642857        NaN\n",
       "Mysteries   2018.580645   2018.096774  1.612903        NaN\n",
       "Anime       2018.817568   2014.229730  1.608108        NaN\n",
       "Drama       2018.340206   2014.567010  1.597938        NaN\n",
       "Romantic    2018.151515   2015.541126  1.545455        NaN\n",
       "Reality     2019.106383   2017.521277  1.531915        NaN\n",
       "Docuseries  2018.408397   2016.500000  1.320611        NaN\n",
       "Korean      2018.317757   2016.186916  1.112150        NaN"
      ]
     },
     "execution_count": 27,
     "metadata": {},
     "output_type": "execute_result"
    }
   ],
   "source": [
    "# seasons1=netflix[netflix['du_shows']>8]\n",
    "# seasons=seasons1.groupby('listed_in').mean().sort_values(by='listed_in')\n",
    "Shows.groupby('listed_in').mean().sort_values(by='du_shows',ascending=False)"
   ]
  },
  {
   "cell_type": "markdown",
   "metadata": {},
   "source": [
    "The medium of seasons each categoria has in netflix are the following:\n",
    "\n",
    "For almost every categorie, the mean seasons for each category are from 1 to 2 except:\n",
    "- Sci\n",
    "- Teen\n",
    "- Comedies\n",
    "- Action\n",
    "\n",
    "That have a mean of 2-3 Seasons\n"
   ]
  },
  {
   "cell_type": "markdown",
   "metadata": {},
   "source": [
    "## Time"
   ]
  },
  {
   "cell_type": "code",
   "execution_count": 28,
   "metadata": {},
   "outputs": [
    {
     "name": "stderr",
     "output_type": "stream",
     "text": [
      "<ipython-input-28-912f90dd5a12>:1: SettingWithCopyWarning: \n",
      "A value is trying to be set on a copy of a slice from a DataFrame.\n",
      "Try using .loc[row_indexer,col_indexer] = value instead\n",
      "\n",
      "See the caveats in the documentation: https://pandas.pydata.org/pandas-docs/stable/user_guide/indexing.html#returning-a-view-versus-a-copy\n",
      "  Shows['Time']=Shows['date_added']-Shows['release_year']\n"
     ]
    }
   ],
   "source": [
    "Shows['Time']=Shows['date_added']-Shows['release_year']"
   ]
  },
  {
   "cell_type": "code",
   "execution_count": 29,
   "metadata": {},
   "outputs": [
    {
     "data": {
      "text/plain": [
       "date_added\n",
       "2008      1\n",
       "2013      5\n",
       "2014      6\n",
       "2021     29\n",
       "2015     30\n",
       "2016    185\n",
       "2017    361\n",
       "2018    430\n",
       "2019    656\n",
       "2020    707\n",
       "dtype: int64"
      ]
     },
     "execution_count": 29,
     "metadata": {},
     "output_type": "execute_result"
    }
   ],
   "source": [
    "Shows.value_counts('date_added').sort_values()"
   ]
  },
  {
   "cell_type": "markdown",
   "metadata": {},
   "source": [
    "There are movies in Netflix that were made a long time ago, but for the purpose of this analisis we eill only take years starting from 2007, which is the year when Netflix started their Streaming services. So the difference must be at the most 13 years 'cus we are in 2021."
   ]
  },
  {
   "cell_type": "markdown",
   "metadata": {},
   "source": [
    "Lets see the mean time that it takes to bring a new Series into Netflix"
   ]
  },
  {
   "cell_type": "markdown",
   "metadata": {},
   "source": [
    "\n",
    "## Original vs Non Orignial Series\n",
    "\n",
    "To know Which are Original Series we only need to know the difference between the date_added and the released_year, it should be 0. Comparar las originales vs las no originales en la misma tabla."
   ]
  },
  {
   "cell_type": "code",
   "execution_count": 30,
   "metadata": {},
   "outputs": [
    {
     "data": {
      "text/plain": [
       "3.3151298119964188"
      ]
     },
     "execution_count": 30,
     "metadata": {},
     "output_type": "execute_result"
    }
   ],
   "source": [
    "x=Shows[(Shows['Time']<14)&(Shows['Time']!=0)]\n",
    "x['Time'].mean()"
   ]
  },
  {
   "cell_type": "markdown",
   "metadata": {},
   "source": [
    "Series that are not Original from Netflix take 3 years (*mean*) to be up loaded to Netflix."
   ]
  },
  {
   "cell_type": "code",
   "execution_count": 31,
   "metadata": {},
   "outputs": [
    {
     "data": {
      "text/plain": [
       "<function matplotlib.pyplot.show(close=None, block=None)>"
      ]
     },
     "execution_count": 31,
     "metadata": {},
     "output_type": "execute_result"
    },
    {
     "data": {
      "image/png": "[encoded data removed]",
      "text/plain": [
       "<Figure size 432x288 with 1 Axes>"
      ]
     },
     "metadata": {
      "needs_background": "light"
     },
     "output_type": "display_data"
    }
   ],
   "source": [
    "y=Shows[Shows['Time']==0]\n",
    "y=y.groupby('date_added').count()\n",
    "x=Shows[Shows['Time']!=0]\n",
    "x=x.groupby('date_added').count()\n",
    "plt.plot(y.index,y['Time'],label='Original')\n",
    "plt.plot(x.index,x['Time'],label='No Original')\n",
    "plt.legend()\n",
    "plt.show"
   ]
  },
  {
   "cell_type": "markdown",
   "metadata": {},
   "source": [
    "We can see that the Original Series started to appear not until 5 years later since the Streaming service in 2013.\n",
    "\n",
    "Also Original Series surpassed the amount of Non Original Series in some moment of 2017 being this type of Series the more common in  Netflix now."
   ]
  },
  {
   "cell_type": "code",
   "execution_count": 32,
   "metadata": {},
   "outputs": [
    {
     "data": {
      "text/html": [
       "<div>\n",
       "<style scoped>\n",
       "    .dataframe tbody tr th:only-of-type {\n",
       "        vertical-align: middle;\n",
       "    }\n",
       "\n",
       "    .dataframe tbody tr th {\n",
       "        vertical-align: top;\n",
       "    }\n",
       "\n",
       "    .dataframe thead th {\n",
       "        text-align: right;\n",
       "    }\n",
       "</style>\n",
       "<table border=\"1\" class=\"dataframe\">\n",
       "  <thead>\n",
       "    <tr style=\"text-align: right;\">\n",
       "      <th></th>\n",
       "      <th>show_id</th>\n",
       "      <th>type</th>\n",
       "      <th>title</th>\n",
       "      <th>country</th>\n",
       "      <th>date_added</th>\n",
       "      <th>release_year</th>\n",
       "      <th>rating</th>\n",
       "      <th>duration</th>\n",
       "      <th>listed_in</th>\n",
       "      <th>description</th>\n",
       "      <th>du_shows</th>\n",
       "      <th>du_movies</th>\n",
       "      <th>Time</th>\n",
       "    </tr>\n",
       "  </thead>\n",
       "  <tbody>\n",
       "    <tr>\n",
       "      <th>1765</th>\n",
       "      <td>s1766</td>\n",
       "      <td>TV Show</td>\n",
       "      <td>Dinner for Five</td>\n",
       "      <td>United States</td>\n",
       "      <td>2008</td>\n",
       "      <td>2007</td>\n",
       "      <td>TV-MA</td>\n",
       "      <td>1 Season</td>\n",
       "      <td>Stand</td>\n",
       "      <td>In each episode, four celebrities join host Jo...</td>\n",
       "      <td>1.0</td>\n",
       "      <td>NaN</td>\n",
       "      <td>1</td>\n",
       "    </tr>\n",
       "  </tbody>\n",
       "</table>\n",
       "</div>"
      ],
      "text/plain": [
       "     show_id     type            title        country  date_added  \\\n",
       "1765   s1766  TV Show  Dinner for Five  United States        2008   \n",
       "\n",
       "      release_year rating  duration listed_in  \\\n",
       "1765          2007  TV-MA  1 Season     Stand   \n",
       "\n",
       "                                            description  du_shows  du_movies  \\\n",
       "1765  In each episode, four celebrities join host Jo...       1.0        NaN   \n",
       "\n",
       "      Time  \n",
       "1765     1  "
      ]
     },
     "execution_count": 32,
     "metadata": {},
     "output_type": "execute_result"
    }
   ],
   "source": [
    "Shows[Shows['date_added']==2008]"
   ]
  },
  {
   "cell_type": "markdown",
   "metadata": {},
   "source": [
    "This is the oldest Series in Netflix that stills active, added in 2008 called `Dinner for Five`."
   ]
  },
  {
   "cell_type": "code",
   "execution_count": 33,
   "metadata": {},
   "outputs": [
    {
     "data": {
      "text/html": [
       "<div>\n",
       "<style scoped>\n",
       "    .dataframe tbody tr th:only-of-type {\n",
       "        vertical-align: middle;\n",
       "    }\n",
       "\n",
       "    .dataframe tbody tr th {\n",
       "        vertical-align: top;\n",
       "    }\n",
       "\n",
       "    .dataframe thead th {\n",
       "        text-align: right;\n",
       "    }\n",
       "</style>\n",
       "<table border=\"1\" class=\"dataframe\">\n",
       "  <thead>\n",
       "    <tr style=\"text-align: right;\">\n",
       "      <th></th>\n",
       "      <th>show_id</th>\n",
       "      <th>type</th>\n",
       "      <th>title</th>\n",
       "      <th>country</th>\n",
       "      <th>date_added</th>\n",
       "      <th>release_year</th>\n",
       "      <th>rating</th>\n",
       "      <th>duration</th>\n",
       "      <th>listed_in</th>\n",
       "      <th>description</th>\n",
       "      <th>du_shows</th>\n",
       "      <th>du_movies</th>\n",
       "      <th>Time</th>\n",
       "    </tr>\n",
       "  </thead>\n",
       "  <tbody>\n",
       "    <tr>\n",
       "      <th>5312</th>\n",
       "      <td>s5313</td>\n",
       "      <td>TV Show</td>\n",
       "      <td>Russell Peters vs. the World</td>\n",
       "      <td>United States</td>\n",
       "      <td>2013</td>\n",
       "      <td>2013</td>\n",
       "      <td>NR</td>\n",
       "      <td>1 Season</td>\n",
       "      <td>Docuseries</td>\n",
       "      <td>A four-part docu-series that's an exclusive, b...</td>\n",
       "      <td>1.0</td>\n",
       "      <td>NaN</td>\n",
       "      <td>0</td>\n",
       "    </tr>\n",
       "  </tbody>\n",
       "</table>\n",
       "</div>"
      ],
      "text/plain": [
       "     show_id     type                         title        country  \\\n",
       "5312   s5313  TV Show  Russell Peters vs. the World  United States   \n",
       "\n",
       "      date_added  release_year rating  duration   listed_in  \\\n",
       "5312        2013          2013     NR  1 Season  Docuseries   \n",
       "\n",
       "                                            description  du_shows  du_movies  \\\n",
       "5312  A four-part docu-series that's an exclusive, b...       1.0        NaN   \n",
       "\n",
       "      Time  \n",
       "5312     0  "
      ]
     },
     "execution_count": 33,
     "metadata": {},
     "output_type": "execute_result"
    }
   ],
   "source": [
    "Shows[(Shows['Time']==0)&(Shows['date_added']==2013)]"
   ]
  },
  {
   "cell_type": "markdown",
   "metadata": {},
   "source": [
    "The First Netflix orignal Series was `Russell Peters vs. the World` that us a Docuserie with 1 Season"
   ]
  },
  {
   "cell_type": "markdown",
   "metadata": {},
   "source": [
    "# Movies\n",
    "\n",
    "Let's analyze the movies now, first a new column called `Time` will be added being the extraction of the `date_added` column and the `release_year` column"
   ]
  },
  {
   "cell_type": "code",
   "execution_count": 34,
   "metadata": {},
   "outputs": [
    {
     "name": "stderr",
     "output_type": "stream",
     "text": [
      "<ipython-input-34-07c7857ba3eb>:1: SettingWithCopyWarning: \n",
      "A value is trying to be set on a copy of a slice from a DataFrame.\n",
      "Try using .loc[row_indexer,col_indexer] = value instead\n",
      "\n",
      "See the caveats in the documentation: https://pandas.pydata.org/pandas-docs/stable/user_guide/indexing.html#returning-a-view-versus-a-copy\n",
      "  Movies['Time']=Movies['date_added']-Movies['release_year']\n"
     ]
    }
   ],
   "source": [
    "Movies['Time']=Movies['date_added']-Movies['release_year']"
   ]
  },
  {
   "cell_type": "code",
   "execution_count": 35,
   "metadata": {},
   "outputs": [
    {
     "data": {
      "text/html": [
       "<div>\n",
       "<style scoped>\n",
       "    .dataframe tbody tr th:only-of-type {\n",
       "        vertical-align: middle;\n",
       "    }\n",
       "\n",
       "    .dataframe tbody tr th {\n",
       "        vertical-align: top;\n",
       "    }\n",
       "\n",
       "    .dataframe thead th {\n",
       "        text-align: right;\n",
       "    }\n",
       "</style>\n",
       "<table border=\"1\" class=\"dataframe\">\n",
       "  <thead>\n",
       "    <tr style=\"text-align: right;\">\n",
       "      <th></th>\n",
       "      <th>show_id</th>\n",
       "      <th>type</th>\n",
       "      <th>title</th>\n",
       "      <th>country</th>\n",
       "      <th>date_added</th>\n",
       "      <th>release_year</th>\n",
       "      <th>rating</th>\n",
       "      <th>duration</th>\n",
       "      <th>listed_in</th>\n",
       "      <th>description</th>\n",
       "      <th>du_shows</th>\n",
       "      <th>du_movies</th>\n",
       "      <th>Time</th>\n",
       "    </tr>\n",
       "  </thead>\n",
       "  <tbody>\n",
       "    <tr>\n",
       "      <th>1</th>\n",
       "      <td>s2</td>\n",
       "      <td>Movie</td>\n",
       "      <td>7:19</td>\n",
       "      <td>Mexico</td>\n",
       "      <td>2016</td>\n",
       "      <td>2016</td>\n",
       "      <td>TV-MA</td>\n",
       "      <td>93 min</td>\n",
       "      <td>Drama</td>\n",
       "      <td>After a devastating earthquake hits Mexico Cit...</td>\n",
       "      <td>NaN</td>\n",
       "      <td>93.0</td>\n",
       "      <td>0</td>\n",
       "    </tr>\n",
       "    <tr>\n",
       "      <th>2</th>\n",
       "      <td>s3</td>\n",
       "      <td>Movie</td>\n",
       "      <td>23:59</td>\n",
       "      <td>Singapore</td>\n",
       "      <td>2018</td>\n",
       "      <td>2011</td>\n",
       "      <td>R</td>\n",
       "      <td>78 min</td>\n",
       "      <td>Horror</td>\n",
       "      <td>When an army recruit is found dead, his fellow...</td>\n",
       "      <td>NaN</td>\n",
       "      <td>78.0</td>\n",
       "      <td>7</td>\n",
       "    </tr>\n",
       "    <tr>\n",
       "      <th>3</th>\n",
       "      <td>s4</td>\n",
       "      <td>Movie</td>\n",
       "      <td>9</td>\n",
       "      <td>United States</td>\n",
       "      <td>2017</td>\n",
       "      <td>2009</td>\n",
       "      <td>PG-13</td>\n",
       "      <td>80 min</td>\n",
       "      <td>Action</td>\n",
       "      <td>In a postapocalyptic world, rag-doll robots hi...</td>\n",
       "      <td>NaN</td>\n",
       "      <td>80.0</td>\n",
       "      <td>8</td>\n",
       "    </tr>\n",
       "    <tr>\n",
       "      <th>4</th>\n",
       "      <td>s5</td>\n",
       "      <td>Movie</td>\n",
       "      <td>21</td>\n",
       "      <td>United States</td>\n",
       "      <td>2020</td>\n",
       "      <td>2008</td>\n",
       "      <td>PG-13</td>\n",
       "      <td>123 min</td>\n",
       "      <td>Drama</td>\n",
       "      <td>A brilliant group of students become card-coun...</td>\n",
       "      <td>NaN</td>\n",
       "      <td>123.0</td>\n",
       "      <td>12</td>\n",
       "    </tr>\n",
       "    <tr>\n",
       "      <th>6</th>\n",
       "      <td>s7</td>\n",
       "      <td>Movie</td>\n",
       "      <td>122</td>\n",
       "      <td>Egypt</td>\n",
       "      <td>2020</td>\n",
       "      <td>2019</td>\n",
       "      <td>TV-MA</td>\n",
       "      <td>95 min</td>\n",
       "      <td>Horror</td>\n",
       "      <td>After an awful accident, a couple admitted to ...</td>\n",
       "      <td>NaN</td>\n",
       "      <td>95.0</td>\n",
       "      <td>1</td>\n",
       "    </tr>\n",
       "  </tbody>\n",
       "</table>\n",
       "</div>"
      ],
      "text/plain": [
       "  show_id   type  title        country  date_added  release_year rating  \\\n",
       "1      s2  Movie   7:19         Mexico        2016          2016  TV-MA   \n",
       "2      s3  Movie  23:59      Singapore        2018          2011      R   \n",
       "3      s4  Movie      9  United States        2017          2009  PG-13   \n",
       "4      s5  Movie     21  United States        2020          2008  PG-13   \n",
       "6      s7  Movie    122          Egypt        2020          2019  TV-MA   \n",
       "\n",
       "  duration listed_in                                        description  \\\n",
       "1   93 min     Drama  After a devastating earthquake hits Mexico Cit...   \n",
       "2   78 min    Horror  When an army recruit is found dead, his fellow...   \n",
       "3   80 min    Action  In a postapocalyptic world, rag-doll robots hi...   \n",
       "4  123 min     Drama  A brilliant group of students become card-coun...   \n",
       "6   95 min    Horror  After an awful accident, a couple admitted to ...   \n",
       "\n",
       "   du_shows  du_movies  Time  \n",
       "1       NaN       93.0     0  \n",
       "2       NaN       78.0     7  \n",
       "3       NaN       80.0     8  \n",
       "4       NaN      123.0    12  \n",
       "6       NaN       95.0     1  "
      ]
     },
     "execution_count": 35,
     "metadata": {},
     "output_type": "execute_result"
    }
   ],
   "source": [
    "Movies.head()"
   ]
  },
  {
   "cell_type": "markdown",
   "metadata": {},
   "source": [
    "Lets see from where the movies are made"
   ]
  },
  {
   "cell_type": "code",
   "execution_count": 36,
   "metadata": {},
   "outputs": [
    {
     "data": {
      "text/plain": [
       "United States     2080\n",
       "India              852\n",
       "United Kingdom     193\n",
       "Canada             118\n",
       "Spain               89\n",
       "Name: country, dtype: int64"
      ]
     },
     "execution_count": 36,
     "metadata": {},
     "output_type": "execute_result"
    }
   ],
   "source": [
    "Movies['country'].value_counts().sort_values(ascending=False).head()"
   ]
  },
  {
   "cell_type": "markdown",
   "metadata": {},
   "source": [
    "Is obvious that United Satates is the Country that produces more movies, the second country that has more movies is India followed by United Kingdom, Cadan ans Spain, but the last three are much more less that India. Looks like India has a powerful movie industry as well."
   ]
  },
  {
   "cell_type": "code",
   "execution_count": 37,
   "metadata": {},
   "outputs": [],
   "source": [
    "No_originals=Movies[Movies['Time']!=0]\n",
    "M_originlas=Movies[Movies['Time']==0]"
   ]
  },
  {
   "cell_type": "code",
   "execution_count": 38,
   "metadata": {},
   "outputs": [
    {
     "data": {
      "text/plain": [
       "3.9749437841310633"
      ]
     },
     "execution_count": 38,
     "metadata": {},
     "output_type": "execute_result"
    }
   ],
   "source": [
    "No_originals.loc[No_originals['Time']<14,'Time'].mean()"
   ]
  },
  {
   "cell_type": "markdown",
   "metadata": {},
   "source": [
    "The mean time for a movie to be upleaded to Netflix is 4 years."
   ]
  },
  {
   "cell_type": "code",
   "execution_count": 39,
   "metadata": {},
   "outputs": [
    {
     "data": {
      "text/plain": [
       "<AxesSubplot:xlabel='listed_in'>"
      ]
     },
     "execution_count": 39,
     "metadata": {},
     "output_type": "execute_result"
    },
    {
     "data": {
      "image/png": "[encoded data removed]",
      "text/plain": [
       "<Figure size 432x288 with 1 Axes>"
      ]
     },
     "metadata": {
      "needs_background": "light"
     },
     "output_type": "display_data"
    }
   ],
   "source": [
    "pv_1=Movies.pivot_table(index='listed_in',values='du_movies',aggfunc=np.mean)\n",
    "pv_1.sort_values(ascending=False,by='du_movies')\n",
    "pv_1.head().plot(kind='bar')"
   ]
  },
  {
   "cell_type": "markdown",
   "metadata": {},
   "source": [
    "The top 5 genre duration movies are:\n",
    "- Action\n",
    "- Comedies\n",
    "- Anime\n",
    "- Documentaries\n",
    "- Children\n",
    "\n",
    "So if you want to watch a quick movie, these are the genres that you have to avoid."
   ]
  },
  {
   "cell_type": "markdown",
   "metadata": {},
   "source": [
    "## Oldest movies added in Netflix\n",
    "\n",
    "Now Lets check the minum year when a movie was added in order to see the oldest added movies in NEtflix."
   ]
  },
  {
   "cell_type": "code",
   "execution_count": 40,
   "metadata": {},
   "outputs": [
    {
     "name": "stdout",
     "output_type": "stream",
     "text": [
      "2009\n",
      "2008\n"
     ]
    }
   ],
   "source": [
    "print(M_originlas['date_added'].min())\n",
    "print(No_originals['date_added'].min())"
   ]
  },
  {
   "cell_type": "code",
   "execution_count": 41,
   "metadata": {},
   "outputs": [
    {
     "data": {
      "text/html": [
       "<div>\n",
       "<style scoped>\n",
       "    .dataframe tbody tr th:only-of-type {\n",
       "        vertical-align: middle;\n",
       "    }\n",
       "\n",
       "    .dataframe tbody tr th {\n",
       "        vertical-align: top;\n",
       "    }\n",
       "\n",
       "    .dataframe thead th {\n",
       "        text-align: right;\n",
       "    }\n",
       "</style>\n",
       "<table border=\"1\" class=\"dataframe\">\n",
       "  <thead>\n",
       "    <tr style=\"text-align: right;\">\n",
       "      <th></th>\n",
       "      <th>show_id</th>\n",
       "      <th>type</th>\n",
       "      <th>title</th>\n",
       "      <th>country</th>\n",
       "      <th>date_added</th>\n",
       "      <th>release_year</th>\n",
       "      <th>rating</th>\n",
       "      <th>duration</th>\n",
       "      <th>listed_in</th>\n",
       "      <th>description</th>\n",
       "      <th>du_shows</th>\n",
       "      <th>du_movies</th>\n",
       "      <th>Time</th>\n",
       "    </tr>\n",
       "  </thead>\n",
       "  <tbody>\n",
       "    <tr>\n",
       "      <th>5765</th>\n",
       "      <td>s5766</td>\n",
       "      <td>Movie</td>\n",
       "      <td>Splatter</td>\n",
       "      <td>United States</td>\n",
       "      <td>2009</td>\n",
       "      <td>2009</td>\n",
       "      <td>TV-MA</td>\n",
       "      <td>29 min</td>\n",
       "      <td>Horror</td>\n",
       "      <td>After committing suicide, a washed-up rocker r...</td>\n",
       "      <td>NaN</td>\n",
       "      <td>29.0</td>\n",
       "      <td>0</td>\n",
       "    </tr>\n",
       "  </tbody>\n",
       "</table>\n",
       "</div>"
      ],
      "text/plain": [
       "     show_id   type     title        country  date_added  release_year rating  \\\n",
       "5765   s5766  Movie  Splatter  United States        2009          2009  TV-MA   \n",
       "\n",
       "     duration listed_in                                        description  \\\n",
       "5765   29 min    Horror  After committing suicide, a washed-up rocker r...   \n",
       "\n",
       "      du_shows  du_movies  Time  \n",
       "5765       NaN       29.0     0  "
      ]
     },
     "execution_count": 41,
     "metadata": {},
     "output_type": "execute_result"
    }
   ],
   "source": [
    "M_originlas[M_originlas['date_added']==2009]"
   ]
  },
  {
   "cell_type": "markdown",
   "metadata": {},
   "source": [
    "The firts original movie, according to this DataSet to be uploaded to Netflix was `Splatter` in 2009, just is 29 minutes long and is a Horror movie."
   ]
  },
  {
   "cell_type": "code",
   "execution_count": 42,
   "metadata": {},
   "outputs": [
    {
     "data": {
      "text/html": [
       "<div>\n",
       "<style scoped>\n",
       "    .dataframe tbody tr th:only-of-type {\n",
       "        vertical-align: middle;\n",
       "    }\n",
       "\n",
       "    .dataframe tbody tr th {\n",
       "        vertical-align: top;\n",
       "    }\n",
       "\n",
       "    .dataframe thead th {\n",
       "        text-align: right;\n",
       "    }\n",
       "</style>\n",
       "<table border=\"1\" class=\"dataframe\">\n",
       "  <thead>\n",
       "    <tr style=\"text-align: right;\">\n",
       "      <th></th>\n",
       "      <th>show_id</th>\n",
       "      <th>type</th>\n",
       "      <th>title</th>\n",
       "      <th>country</th>\n",
       "      <th>date_added</th>\n",
       "      <th>release_year</th>\n",
       "      <th>rating</th>\n",
       "      <th>duration</th>\n",
       "      <th>listed_in</th>\n",
       "      <th>description</th>\n",
       "      <th>du_shows</th>\n",
       "      <th>du_movies</th>\n",
       "      <th>Time</th>\n",
       "    </tr>\n",
       "  </thead>\n",
       "  <tbody>\n",
       "    <tr>\n",
       "      <th>7113</th>\n",
       "      <td>s7114</td>\n",
       "      <td>Movie</td>\n",
       "      <td>To and From New York</td>\n",
       "      <td>United States</td>\n",
       "      <td>2008</td>\n",
       "      <td>2006</td>\n",
       "      <td>TV-MA</td>\n",
       "      <td>81 min</td>\n",
       "      <td>Independent</td>\n",
       "      <td>While covering a story in New York City, a Sea...</td>\n",
       "      <td>NaN</td>\n",
       "      <td>81.0</td>\n",
       "      <td>2</td>\n",
       "    </tr>\n",
       "  </tbody>\n",
       "</table>\n",
       "</div>"
      ],
      "text/plain": [
       "     show_id   type                 title        country  date_added  \\\n",
       "7113   s7114  Movie  To and From New York  United States        2008   \n",
       "\n",
       "      release_year rating duration    listed_in  \\\n",
       "7113          2006  TV-MA   81 min  Independent   \n",
       "\n",
       "                                            description  du_shows  du_movies  \\\n",
       "7113  While covering a story in New York City, a Sea...       NaN       81.0   \n",
       "\n",
       "      Time  \n",
       "7113     2  "
      ]
     },
     "execution_count": 42,
     "metadata": {},
     "output_type": "execute_result"
    }
   ],
   "source": [
    "No_originals[No_originals['date_added']==2008]"
   ]
  },
  {
   "cell_type": "markdown",
   "metadata": {},
   "source": [
    "The first movie, according this DataSet to be upleaded to Netflix, and stills current is `To and From New York`, is an Independent movie.\n",
    "\n",
    "It would be interesting to know how the Original movies have being developed in the years vs the no Originals ones."
   ]
  },
  {
   "cell_type": "code",
   "execution_count": 43,
   "metadata": {},
   "outputs": [
    {
     "data": {
      "image/png": "[encoded data removed]",
      "text/plain": [
       "<Figure size 432x288 with 1 Axes>"
      ]
     },
     "metadata": {
      "needs_background": "light"
     },
     "output_type": "display_data"
    }
   ],
   "source": [
    "pv_originals=M_originlas.pivot_table(index='date_added',values='Time',aggfunc='count')\n",
    "pv_no_originals=No_originals.pivot_table(index='date_added',values='Time',aggfunc='count')\n",
    "\n",
    "plt.plot(pv_originals.index,pv_originals['Time'],label='Originals')\n",
    "plt.plot(pv_no_originals.index,pv_no_originals['Time'],label='No Originals')\n",
    "plt.legend()\n",
    "plt.show()"
   ]
  },
  {
   "cell_type": "markdown",
   "metadata": {},
   "source": [
    "The first years there wa no difference between the amount of Originals and no Originals movies, in 2014 the Original movies were more than the other movies. Starting 2016 No Original movies started to be majority in Netflix."
   ]
  },
  {
   "cell_type": "markdown",
   "metadata": {},
   "source": [
    "## Movies through the years according genre\n",
    "\n",
    "Now lets see how many movies were uploeaded to netflix within the years according their genre, to do a esthetic analysisis only the top 5 categories will be analyzed here:"
   ]
  },
  {
   "cell_type": "code",
   "execution_count": 44,
   "metadata": {},
   "outputs": [
    {
     "data": {
      "image/png": "[encoded data removed]",
      "text/plain": [
       "<Figure size 432x288 with 1 Axes>"
      ]
     },
     "metadata": {
      "needs_background": "light"
     },
     "output_type": "display_data"
    }
   ],
   "source": [
    "genres=Movies['listed_in'].value_counts().sort_values(ascending=False).head(5).index\n",
    "for g in genres:\n",
    "    table_genre=Movies[Movies['listed_in']==g]\n",
    "    pv_genre=table_genre.pivot_table(index='date_added',values='listed_in',aggfunc='count')\n",
    "    plt.plot(pv_genre.index,pv_genre['listed_in'],label=g)\n",
    "plt.legend()\n",
    "plt.show()"
   ]
  },
  {
   "cell_type": "markdown",
   "metadata": {},
   "source": [
    "We can see that in the first years there was no really a genre that ruled over the other ones, then in 2015 the `Docuseries` were the ones to take the car, but finally the `Comedy` movies arrived to stay being the top genre in Netflix since then. So we can expect to have more Comedy movies in teh catalogue. Action movies were the 2nd genre  with more uploaded frquency.\n",
    "\n",
    "Surprissingly in 2020 the uploaded of many genres dropped, and the only one to rise was the Children category, this may be because Covid, kids staying in house made the thing hard for dads, so the amount of views for this category increased, that coul lead to a major Children content to be uploaded."
   ]
  },
  {
   "cell_type": "markdown",
   "metadata": {},
   "source": [
    "## Movies vs Series\n",
    "\n",
    "Finally lets check hoe movies vs Series behave over the years"
   ]
  },
  {
   "cell_type": "code",
   "execution_count": 45,
   "metadata": {},
   "outputs": [
    {
     "data": {
      "image/png": "[encoded data removed]",
      "text/plain": [
       "<Figure size 432x288 with 1 Axes>"
      ]
     },
     "metadata": {
      "needs_background": "light"
     },
     "output_type": "display_data"
    }
   ],
   "source": [
    "vs1=Movies.pivot_table(index='date_added',values='type',aggfunc='count')\n",
    "vs2=Shows.pivot_table(index='date_added',values='type',aggfunc='count')\n",
    "plt.plot(vs1.index,vs1['type'],label='Movies')\n",
    "plt.plot(vs2.index,vs2['type'],label='Series')\n",
    "plt.legend()\n",
    "plt.show()"
   ]
  }
 ],
 "metadata": {
  "kernelspec": {
   "display_name": "Python 3",
   "language": "python",
   "name": "python3"
  },
  "language_info": {
   "codemirror_mode": {
    "name": "ipython",
    "version": 3
   },
   "file_extension": ".py",
   "mimetype": "text/x-python",
   "name": "python",
   "nbconvert_exporter": "python",
   "pygments_lexer": "ipython3",
   "version": "3.8.5"
  }
 },
 "nbformat": 4,
 "nbformat_minor": 4
}
